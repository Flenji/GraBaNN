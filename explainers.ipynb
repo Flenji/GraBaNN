{
 "cells": [
  {
   "cell_type": "code",
   "execution_count": 1,
   "metadata": {},
   "outputs": [],
   "source": [
    "import torch_geometric.explain as ex"
   ]
  },
  {
   "cell_type": "code",
   "execution_count": 2,
   "metadata": {},
   "outputs": [
    {
     "data": {
      "text/plain": [
       "<All keys matched successfully>"
      ]
     },
     "execution_count": 2,
     "metadata": {},
     "output_type": "execute_result"
    }
   ],
   "source": [
    "import torch\n",
    "from graph_class_gnn import Graph_Classification_GCN\n",
    "model = Graph_Classification_GCN()\n",
    "model.load_state_dict(torch.load('model/pgexp_model_red_ratio.pt'))\n"
   ]
  },
  {
   "cell_type": "code",
   "execution_count": 3,
   "metadata": {},
   "outputs": [],
   "source": [
    "explainer = ex.Explainer(\n",
    "        model=model,\n",
    "        algorithm=ex.PGExplainer(epochs=5, lr=0.003),\n",
    "        explanation_type='phenomenon',\n",
    "        edge_mask_type='object',\n",
    "        model_config=ex.ModelConfig(mode=\"multiclass_classification\", task_level=\"graph\", return_type=\"raw\"),\n",
    "    )"
   ]
  },
  {
   "cell_type": "code",
   "execution_count": 4,
   "metadata": {},
   "outputs": [],
   "source": [
    "datasetLoader = torch.load('model/pgexp_test_loader_red_ratio.pt')\n"
   ]
  },
  {
   "cell_type": "code",
   "execution_count": 5,
   "metadata": {},
   "outputs": [],
   "source": [
    "dataset = datasetLoader.dataset\n"
   ]
  },
  {
   "cell_type": "code",
   "execution_count": 6,
   "metadata": {},
   "outputs": [
    {
     "data": {
      "text/plain": [
       "8000"
      ]
     },
     "execution_count": 6,
     "metadata": {},
     "output_type": "execute_result"
    }
   ],
   "source": [
    "len(dataset)"
   ]
  },
  {
   "cell_type": "code",
   "execution_count": 7,
   "metadata": {},
   "outputs": [
    {
     "name": "stdout",
     "output_type": "stream",
     "text": [
      "Epoch: 0\n",
      "Epoch: 1\n",
      "Epoch: 2\n",
      "Epoch: 3\n",
      "Epoch: 4\n"
     ]
    }
   ],
   "source": [
    "\n",
    "for epoch in range(5):\n",
    "    #print epochs\n",
    "    print('Epoch:', epoch)\n",
    "    for i in range(len(dataset)):\n",
    "        explainer.algorithm.train(model=model,x=dataset[i].x, edge_index=dataset[i].edge_index,target=dataset[i].y, epoch=epoch)"
   ]
  },
  {
   "cell_type": "code",
   "execution_count": 8,
   "metadata": {},
   "outputs": [],
   "source": [
    "expl1 =explainer(dataset[4].x,dataset[4].edge_index, target=dataset[4].y)"
   ]
  },
  {
   "cell_type": "code",
   "execution_count": 18,
   "metadata": {},
   "outputs": [],
   "source": [
    "# convert dataset.y to y numpy array\n",
    "import numpy as np\n",
    "y = [data.y for data in dataset]\n",
    "classes = np.unique(y)"
   ]
  },
  {
   "cell_type": "code",
   "execution_count": 19,
   "metadata": {},
   "outputs": [],
   "source": [
    "import matplotlib.pyplot as plt"
   ]
  },
  {
   "cell_type": "code",
   "execution_count": 20,
   "metadata": {},
   "outputs": [],
   "source": [
    "class_indexes = []\n",
    "for c in classes:\n",
    "    class_indexes.append(np.where(y == c)[0])"
   ]
  },
  {
   "cell_type": "code",
   "execution_count": 21,
   "metadata": {},
   "outputs": [
    {
     "data": {
      "text/plain": [
       "[array([   1,    3,    4, ..., 7996, 7998, 7999]),\n",
       " array([   0,    2,    5, ..., 7991, 7995, 7997])]"
      ]
     },
     "execution_count": 21,
     "metadata": {},
     "output_type": "execute_result"
    }
   ],
   "source": [
    "class_indexes"
   ]
  },
  {
   "cell_type": "code",
   "execution_count": null,
   "metadata": {},
   "outputs": [],
   "source": [
    "for example in range(5):    \n",
    "        for c in classes: \n",
    "            index = class_indexes[c][example]\n",
    "            print(index)"
   ]
  },
  {
   "cell_type": "code",
   "execution_count": 24,
   "metadata": {},
   "outputs": [],
   "source": [
    "torch.save(explainer, 'outputs/pgexp_expl1_red_ratio.pt')"
   ]
  },
  {
   "cell_type": "code",
   "execution_count": 11,
   "metadata": {},
   "outputs": [
    {
     "name": "stdout",
     "output_type": "stream",
     "text": [
      "tensor([[0],\n",
      "        [0]])\n",
      "tensor([[0., 1., 0.]])\n",
      "Explanation(edge_mask=[1], target=[1], x=[1, 3], edge_index=[2, 1])\n"
     ]
    },
    {
     "data": {
      "image/png": "[encoded data removed]",
      "text/plain": [
       "<Figure size 640x480 with 1 Axes>"
      ]
     },
     "metadata": {},
     "output_type": "display_data"
    }
   ],
   "source": [
    "print(expl1.edge_index)\n",
    "print(expl1.x)\n",
    "print(expl1)\n",
    "import utility_functions as uf\n",
    "uf.printGraph(expl1)\n",
    "plt.savefig(\"outputs/test.png\")"
   ]
  }
 ],
 "metadata": {
  "kernelspec": {
   "display_name": "venv_new",
   "language": "python",
   "name": "python3"
  },
  "language_info": {
   "codemirror_mode": {
    "name": "ipython",
    "version": 3
   },
   "file_extension": ".py",
   "mimetype": "text/x-python",
   "name": "python",
   "nbconvert_exporter": "python",
   "pygments_lexer": "ipython3",
   "version": "3.10.12"
  }
 },
 "nbformat": 4,
 "nbformat_minor": 2
}
