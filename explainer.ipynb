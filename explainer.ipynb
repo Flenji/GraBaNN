{
 "cells": [
  {
   "cell_type": "code",
   "execution_count": 26,
   "metadata": {},
   "outputs": [],
   "source": [
    "from explainers.gnninterpreter import * \n"
   ]
  },
  {
   "cell_type": "code",
   "execution_count": 27,
   "metadata": {},
   "outputs": [],
   "source": [
    "import torch\n",
    "from torch import nn\n",
    "import libraries.dataLoaderWrapper"
   ]
  },
  {
   "cell_type": "code",
   "execution_count": 28,
   "metadata": {},
   "outputs": [],
   "source": [
    "dataset = torch.load('model/test_loader_red_ratio.pt')\n"
   ]
  },
  {
   "cell_type": "code",
   "execution_count": 29,
   "metadata": {},
   "outputs": [],
   "source": [
    "\n",
    "# dataset[1310]\n"
   ]
  },
  {
   "cell_type": "code",
   "execution_count": 30,
   "metadata": {},
   "outputs": [
    {
     "data": {
      "text/plain": [
       "8000"
      ]
     },
     "execution_count": 30,
     "metadata": {},
     "output_type": "execute_result"
    }
   ],
   "source": [
    "len(dataset)"
   ]
  },
  {
   "cell_type": "code",
   "execution_count": 31,
   "metadata": {},
   "outputs": [
    {
     "data": {
      "text/plain": [
       "<All keys matched successfully>"
      ]
     },
     "execution_count": 31,
     "metadata": {},
     "output_type": "execute_result"
    }
   ],
   "source": [
    "model = GCNClassifier(node_features=3,\n",
    "                      num_classes=2,\n",
    "                      hidden_channels=32)\n",
    "\n",
    "model.load_state_dict(torch.load('model/model_red_class.pt'))"
   ]
  },
  {
   "cell_type": "code",
   "execution_count": 32,
   "metadata": {},
   "outputs": [],
   "source": [
    "def mean_embeddingsf(dataloader, model, batch_size=32):\n",
    "    embeds = [[] for _ in range(2)]\n",
    "    model.eval()\n",
    "    for batch in dataloader:\n",
    "        for i, e in enumerate(model(batch)['embeds']):\n",
    "            embeds[batch.y[i].item()].append(e)\n",
    "    return [torch.stack(e, dim=0).mean(axis=0) for e in embeds]"
   ]
  },
  {
   "cell_type": "code",
   "execution_count": 33,
   "metadata": {},
   "outputs": [],
   "source": [
    "mean_embeds = dataset.mean_embeddings(model)"
   ]
  },
  {
   "cell_type": "code",
   "execution_count": 34,
   "metadata": {},
   "outputs": [],
   "source": [
    "trainer = {}\n",
    "sampler ={}"
   ]
  },
  {
   "cell_type": "code",
   "execution_count": 35,
   "metadata": {},
   "outputs": [],
   "source": [
    "cls_idx = 1\n",
    "trainer[cls_idx] = Trainer(\n",
    "    sampler=(s := GraphSampler(\n",
    "        max_nodes=20,\n",
    "        num_node_cls=3,\n",
    "        temperature=0.15,\n",
    "        learn_node_feat=True\n",
    "    )),\n",
    "    discriminator=model,\n",
    "    criterion=WeightedCriterion([\n",
    "        dict(key=\"logits\", criterion=ClassScoreCriterion(class_idx=cls_idx, mode='maximize'), weight=1),\n",
    "        dict(key=\"embeds\", criterion=EmbeddingCriterion(target_embedding=mean_embeds[cls_idx]), weight=10),\n",
    "        dict(key=\"logits\", criterion=MeanPenalty(), weight=0),\n",
    "        dict(key=\"omega\", criterion=NormPenalty(order=1), weight=1),\n",
    "        dict(key=\"omega\", criterion=NormPenalty(order=2), weight=1),\n",
    "        dict(key=\"xi\", criterion=NormPenalty(order=1), weight=0),\n",
    "        dict(key=\"xi\", criterion=NormPenalty(order=2), weight=0),\n",
    "        # dict(key=\"eta\", criterion=NormPenalty(order=1), weight=0),\n",
    "        # dict(key=\"eta\", criterion=NormPenalty(order=2), weight=0),\n",
    "        dict(key=\"theta_pairs\", criterion=KLDivergencePenalty(binary=True), weight=0),\n",
    "    ]),\n",
    "    optimizer=(o := torch.optim.SGD(s.parameters(), lr=1)),\n",
    "    scheduler=torch.optim.lr_scheduler.ExponentialLR(o, gamma=1),\n",
    "    dataset=dataset,\n",
    "    budget_penalty=BudgetPenalty(budget=10, order=2, beta=1),\n",
    "    target_probs={cls_idx: (0.9, 1)},\n",
    "    k_samples=16\n",
    ")"
   ]
  },
  {
   "cell_type": "code",
   "execution_count": 36,
   "metadata": {},
   "outputs": [
    {
     "data": {
      "application/vnd.jupyter.widget-view+json": {
       "model_id": "50f529c490f1478b9ab215575da3e5cb",
       "version_major": 2,
       "version_minor": 0
      },
      "text/plain": [
       "  0%|          | 0/2000 [00:00<?, ?it/s]"
      ]
     },
     "metadata": {},
     "output_type": "display_data"
    },
    {
     "data": {
      "text/plain": [
       "True"
      ]
     },
     "execution_count": 36,
     "metadata": {},
     "output_type": "execute_result"
    }
   ],
   "source": [
    "trainer[1].train(2000)"
   ]
  },
  {
   "cell_type": "code",
   "execution_count": 41,
   "metadata": {},
   "outputs": [
    {
     "data": {
      "image/png": "[encoded data removed]",
      "text/plain": [
       "<Figure size 640x480 with 1 Axes>"
      ]
     },
     "metadata": {},
     "output_type": "display_data"
    }
   ],
   "source": [
    "graph = trainer[1].evaluate(threshold=0.5, show=False)\n",
    "labels = [graph.nodes[node]['label'] for node in graph.nodes]\n",
    "import networkx as nx\n",
    "nx.draw(graph, nx.kamada_kawai_layout(graph), node_color=labels)"
   ]
  },
  {
   "cell_type": "code",
   "execution_count": 43,
   "metadata": {},
   "outputs": [],
   "source": [
    "cls_idx = 0\n",
    "trainer[cls_idx] = Trainer(\n",
    "    sampler=(s := GraphSampler(\n",
    "        max_nodes=20,\n",
    "        num_node_cls=3,\n",
    "        temperature=0.15,\n",
    "        learn_node_feat=True\n",
    "    )),\n",
    "    discriminator=model,\n",
    "    criterion=WeightedCriterion([\n",
    "        dict(key=\"logits\", criterion=ClassScoreCriterion(class_idx=cls_idx, mode='maximize'), weight=1),\n",
    "        dict(key=\"embeds\", criterion=EmbeddingCriterion(target_embedding=mean_embeds[cls_idx]), weight=10),\n",
    "        dict(key=\"logits\", criterion=MeanPenalty(), weight=0),\n",
    "        dict(key=\"omega\", criterion=NormPenalty(order=1), weight=1),\n",
    "        dict(key=\"omega\", criterion=NormPenalty(order=2), weight=1),\n",
    "        dict(key=\"xi\", criterion=NormPenalty(order=1), weight=0),\n",
    "        dict(key=\"xi\", criterion=NormPenalty(order=2), weight=0),\n",
    "        # dict(key=\"eta\", criterion=NormPenalty(order=1), weight=0),\n",
    "        # dict(key=\"eta\", criterion=NormPenalty(order=2), weight=0),\n",
    "        dict(key=\"theta_pairs\", criterion=KLDivergencePenalty(binary=True), weight=0),\n",
    "    ]),\n",
    "    optimizer=(o := torch.optim.SGD(s.parameters(), lr=1)),\n",
    "    scheduler=torch.optim.lr_scheduler.ExponentialLR(o, gamma=1),\n",
    "    dataset=dataset,\n",
    "    budget_penalty=BudgetPenalty(budget=10, order=2, beta=1),\n",
    "    target_probs={cls_idx: (0.9, 1)},\n",
    "    k_samples=16\n",
    ")"
   ]
  },
  {
   "cell_type": "code",
   "execution_count": 44,
   "metadata": {},
   "outputs": [
    {
     "data": {
      "application/vnd.jupyter.widget-view+json": {
       "model_id": "92546c28451e4d2699a349a112fc9607",
       "version_major": 2,
       "version_minor": 0
      },
      "text/plain": [
       "  0%|          | 0/2000 [00:00<?, ?it/s]"
      ]
     },
     "metadata": {},
     "output_type": "display_data"
    },
    {
     "data": {
      "text/plain": [
       "True"
      ]
     },
     "execution_count": 44,
     "metadata": {},
     "output_type": "execute_result"
    }
   ],
   "source": [
    "trainer[0].train(2000)"
   ]
  },
  {
   "cell_type": "code",
   "execution_count": 46,
   "metadata": {},
   "outputs": [
    {
     "data": {
      "image/png": "[encoded data removed]",
      "text/plain": [
       "<Figure size 640x480 with 1 Axes>"
      ]
     },
     "metadata": {},
     "output_type": "display_data"
    }
   ],
   "source": [
    "graph2 = trainer[0].evaluate(threshold=0.5, show=False)\n",
    "labels = [graph2.nodes[node]['label'] for node in graph2.nodes]\n",
    "import networkx as nx\n",
    "nx.draw(graph2, nx.kamada_kawai_layout(graph2), node_color=labels)"
   ]
  },
  {
   "cell_type": "code",
   "execution_count": null,
   "metadata": {},
   "outputs": [
    {
     "data": {
      "text/plain": [
       "8"
      ]
     },
     "execution_count": 50,
     "metadata": {},
     "output_type": "execute_result"
    }
   ],
   "source": [
    "len(graph)"
   ]
  }
 ],
 "metadata": {
  "kernelspec": {
   "display_name": "venv",
   "language": "python",
   "name": "python3"
  },
  "language_info": {
   "codemirror_mode": {
    "name": "ipython",
    "version": 3
   },
   "file_extension": ".py",
   "mimetype": "text/x-python",
   "name": "python",
   "nbconvert_exporter": "python",
   "pygments_lexer": "ipython3",
   "version": "3.10.12"
  }
 },
 "nbformat": 4,
 "nbformat_minor": 2
}
