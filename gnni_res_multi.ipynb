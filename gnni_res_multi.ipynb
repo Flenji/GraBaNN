{
 "cells": [
  {
   "cell_type": "code",
   "execution_count": 17,
   "metadata": {},
   "outputs": [],
   "source": [
    "from explainers.GNNBoundary.gnn_boundary.models.gcn_classifier import GCNClassifier as GCNClassifier\n",
    "import torch as torch"
   ]
  },
  {
   "cell_type": "code",
   "execution_count": 15,
   "metadata": {},
   "outputs": [
    {
     "data": {
      "text/plain": [
       "<All keys matched successfully>"
      ]
     },
     "execution_count": 15,
     "metadata": {},
     "output_type": "execute_result"
    }
   ],
   "source": [
    "\n",
    "model = GCNClassifier(num_layers=3, num_classes=4, node_features=3, hidden_channels=32)\n",
    "model.load_state_dict(torch.load('model/report_models/multi_grids.pt'))"
   ]
  },
  {
   "cell_type": "code",
   "execution_count": 66,
   "metadata": {},
   "outputs": [],
   "source": [
    "from graph_generation.MultiGraphs import MultiGraphs\n",
    "import libraries.dataLoaderWrapper as DLW\n",
    "dataset = DLW.GNNInterpreterLoaderWrapper(MultiGraphs(10000, negative_class=True).getDataset())\n",
    "mean_embeds = dataset.mean_embeddings(model)"
   ]
  },
  {
   "cell_type": "code",
   "execution_count": 108,
   "metadata": {},
   "outputs": [],
   "source": [
    "from explainers.gnninterpreter import *\n",
    "c = 0\n",
    "\n",
    "trainer = {}\n",
    "trainer[c] = Trainer(\n",
    "            sampler=(s := GraphSampler(\n",
    "                max_nodes=25,\n",
    "                num_node_cls=3,\n",
    "                temperature=0.15,\n",
    "                learn_node_feat=True\n",
    "            )),\n",
    "            discriminator=model,\n",
    "            criterion=WeightedCriterion([\n",
    "                dict(key=\"logits\", criterion=ClassScoreCriterion(class_idx=c, mode='maximize'), weight=50),\n",
    "                dict(key=\"logits\", criterion=ClassScoreCriterion(class_idx=3, mode='minimize'), weight=50),\n",
    "                dict(key=\"embeds\", criterion=EmbeddingCriterion(target_embedding=mean_embeds[c]), weight=5),\n",
    "                dict(key=\"logits\", criterion=MeanPenalty(), weight=0),\n",
    "                dict(key=\"omega\", criterion=NormPenalty(order=1), weight=1),\n",
    "                dict(key=\"omega\", criterion=NormPenalty(order=2), weight=1),\n",
    "                dict(key=\"xi\", criterion=NormPenalty(order=1), weight=0),\n",
    "                dict(key=\"xi\", criterion=NormPenalty(order=2), weight=0),\n",
    "                # dict(key=\"eta\", criterion=NormPenalty(order=1), weight=0),\n",
    "                # dict(key=\"eta\", criterion=NormPenalty(order=2), weight=0),\n",
    "                dict(key=\"theta_pairs\", criterion=KLDivergencePenalty(binary=True), weight=1),\n",
    "            ]),\n",
    "            optimizer=(o := torch.optim.SGD(s.parameters(), lr=1)),\n",
    "            scheduler=torch.optim.lr_scheduler.ExponentialLR(o, gamma=1),\n",
    "            dataset=dataset,\n",
    "            budget_penalty=BudgetPenalty(budget=10, order=2, beta=1),\n",
    "            target_probs={c: (0.9, 1)},\n",
    "            k_samples=16\n",
    "        )"
   ]
  },
  {
   "cell_type": "code",
   "execution_count": 109,
   "metadata": {},
   "outputs": [
    {
     "data": {
      "application/vnd.jupyter.widget-view+json": {
       "model_id": "ca38a5fcc0d542be9e8cb6402b42cf1f",
       "version_major": 2,
       "version_minor": 0
      },
      "text/plain": [
       "  0%|          | 0/2000 [00:00<?, ?it/s]"
      ]
     },
     "metadata": {},
     "output_type": "display_data"
    },
    {
     "data": {
      "text/plain": [
       "True"
      ]
     },
     "execution_count": 109,
     "metadata": {},
     "output_type": "execute_result"
    }
   ],
   "source": [
    "trainer[0].train(2000)"
   ]
  },
  {
   "cell_type": "code",
   "execution_count": 103,
   "metadata": {},
   "outputs": [
    {
     "name": "stdout",
     "output_type": "stream",
     "text": [
      "n=2 m=1\n",
      "logits=[-53.25527572631836, 5.894179821014404, -49.68318557739258, -24.452192306518555]\n",
      "probs=[2.049829023643951e-26, 1.0, 7.295527153408791e-25, 6.618168605374355e-14]\n"
     ]
    },
    {
     "data": {
      "image/png": "[encoded data removed]",
      "text/plain": [
       "<Figure size 640x480 with 1 Axes>"
      ]
     },
     "metadata": {},
     "output_type": "display_data"
    },
    {
     "data": {
      "text/plain": [
       "(<networkx.classes.graph.Graph at 0x7f7c08bbf370>,\n",
       " {'n': 2,\n",
       "  'm': 1,\n",
       "  'logits': [-53.25527572631836,\n",
       "   5.894179821014404,\n",
       "   -49.68318557739258,\n",
       "   -24.452192306518555],\n",
       "  'probs': [2.049829023643951e-26,\n",
       "   1.0,\n",
       "   7.295527153408791e-25,\n",
       "   6.618168605374355e-14]})"
      ]
     },
     "execution_count": 103,
     "metadata": {},
     "output_type": "execute_result"
    }
   ],
   "source": [
    "trainer[1].evaluate(threshold=0.5, show=True)"
   ]
  },
  {
   "cell_type": "code",
   "execution_count": 110,
   "metadata": {},
   "outputs": [
    {
     "name": "stdout",
     "output_type": "stream",
     "text": [
      "n=4 m=2\n",
      "logits=[0.008008599281311035, -18.132083892822266, -9.280320167541504, -12.58416748046875]\n",
      "probs=[0.9999040365219116, 1.3237809071142692e-08, 9.248860442312434e-05, 3.3981737033172976e-06]\n"
     ]
    },
    {
     "data": {
      "image/png": "[encoded data removed]",
      "text/plain": [
       "<Figure size 640x480 with 1 Axes>"
      ]
     },
     "metadata": {},
     "output_type": "display_data"
    },
    {
     "data": {
      "text/plain": [
       "(<networkx.classes.graph.Graph at 0x7f7c029ecf70>,\n",
       " {'n': 4,\n",
       "  'm': 2,\n",
       "  'logits': [0.008008599281311035,\n",
       "   -18.132083892822266,\n",
       "   -9.280320167541504,\n",
       "   -12.58416748046875],\n",
       "  'probs': [0.9999040365219116,\n",
       "   1.3237809071142692e-08,\n",
       "   9.248860442312434e-05,\n",
       "   3.3981737033172976e-06]})"
      ]
     },
     "execution_count": 110,
     "metadata": {},
     "output_type": "execute_result"
    }
   ],
   "source": [
    "trainer[0].evaluate(threshold=0.5, show=True)"
   ]
  },
  {
   "cell_type": "code",
   "execution_count": null,
   "metadata": {},
   "outputs": [],
   "source": []
  }
 ],
 "metadata": {
  "kernelspec": {
   "display_name": "venv_new",
   "language": "python",
   "name": "python3"
  },
  "language_info": {
   "codemirror_mode": {
    "name": "ipython",
    "version": 3
   },
   "file_extension": ".py",
   "mimetype": "text/x-python",
   "name": "python",
   "nbconvert_exporter": "python",
   "pygments_lexer": "ipython3",
   "version": "3.10.12"
  }
 },
 "nbformat": 4,
 "nbformat_minor": 2
}
