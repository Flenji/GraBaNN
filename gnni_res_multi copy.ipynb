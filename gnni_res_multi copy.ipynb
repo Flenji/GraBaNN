{
 "cells": [
  {
   "cell_type": "code",
   "execution_count": 14,
   "metadata": {},
   "outputs": [],
   "source": [
    "from explainers.GNNBoundary.gnn_boundary.models.gcn_classifier import GCNClassifier as GCNClassifier\n",
    "import torch as torch"
   ]
  },
  {
   "cell_type": "code",
   "execution_count": 15,
   "metadata": {},
   "outputs": [],
   "source": [
    "import numpy as np"
   ]
  },
  {
   "cell_type": "code",
   "execution_count": 16,
   "metadata": {},
   "outputs": [
    {
     "data": {
      "text/plain": [
       "<All keys matched successfully>"
      ]
     },
     "execution_count": 16,
     "metadata": {},
     "output_type": "execute_result"
    }
   ],
   "source": [
    "\n",
    "model = GCNClassifier(num_layers=3, num_classes=4, node_features=3, hidden_channels=32)\n",
    "model.load_state_dict(torch.load('model/report_models/multi_grids.pt'))"
   ]
  },
  {
   "cell_type": "code",
   "execution_count": 17,
   "metadata": {},
   "outputs": [],
   "source": [
    "from graph_generation.MultiGraphs import MultiGraphs\n",
    "import libraries.dataLoaderWrapper as DLW\n",
    "dataset = DLW.GNNInterpreterLoaderWrapper(MultiGraphs(10000, negative_class=True).getDataset())\n",
    "mean_embeds = dataset.mean_embeddings(model)\n"
   ]
  },
  {
   "cell_type": "code",
   "execution_count": 18,
   "metadata": {},
   "outputs": [
    {
     "data": {
      "text/plain": [
       "[array([   0,    4,    8, ..., 9988, 9992, 9996]),\n",
       " array([   1,    5,    9, ..., 9989, 9993, 9997]),\n",
       " array([   2,    6,   10, ..., 9990, 9994, 9998]),\n",
       " array([   3,    7,   11, ..., 9991, 9995, 9999])]"
      ]
     },
     "execution_count": 18,
     "metadata": {},
     "output_type": "execute_result"
    }
   ],
   "source": [
    "y = [data.y for data in dataset]\n",
    "classes = np.unique(y)\n",
    "class_indexes = []\n",
    "for c in classes:\n",
    "    class_indexes.append(np.where(y == c)[0])\n",
    "class_indexes"
   ]
  },
  {
   "cell_type": "code",
   "execution_count": 19,
   "metadata": {},
   "outputs": [],
   "source": [
    "\n",
    "trainers = {}"
   ]
  },
  {
   "cell_type": "code",
   "execution_count": 24,
   "metadata": {},
   "outputs": [
    {
     "data": {
      "application/vnd.jupyter.widget-view+json": {
       "model_id": "9e426217d9c54811bdb4b478b5a4b4fb",
       "version_major": 2,
       "version_minor": 0
      },
      "text/plain": [
       "  0%|          | 0/2000 [00:00<?, ?it/s]"
      ]
     },
     "metadata": {},
     "output_type": "display_data"
    },
    {
     "data": {
      "text/plain": [
       "True"
      ]
     },
     "execution_count": 24,
     "metadata": {},
     "output_type": "execute_result"
    }
   ],
   "source": [
    "from explainers.gnninterpreter import *\n",
    "c = 0\n",
    "\n",
    "trainers[c] = Trainer(\n",
    "            sampler=(s := GraphSampler(\n",
    "                max_nodes=25,\n",
    "                num_node_cls=3,\n",
    "                temperature=0.15,\n",
    "                learn_node_feat=True\n",
    "            )),\n",
    "            discriminator=model,\n",
    "            criterion=WeightedCriterion([\n",
    "                dict(key=\"logits\", criterion=ClassScoreCriterion(class_idx=c, mode='maximize'), weight=5),\n",
    "                dict(key=\"logits\", criterion=ClassScoreCriterion(class_idx=3, mode='minimize'), weight=5),\n",
    "                dict(key=\"embeds\", criterion=EmbeddingCriterion(target_embedding=mean_embeds[c]), weight=5),\n",
    "                dict(key=\"logits\", criterion=MeanPenalty(), weight=0),\n",
    "                dict(key=\"omega\", criterion=NormPenalty(order=1), weight=1),\n",
    "                dict(key=\"omega\", criterion=NormPenalty(order=2), weight=1),\n",
    "                dict(key=\"xi\", criterion=NormPenalty(order=1), weight=0),\n",
    "                dict(key=\"xi\", criterion=NormPenalty(order=2), weight=0),\n",
    "                # dict(key=\"eta\", criterion=NormPenalty(order=1), weight=0),\n",
    "                # dict(key=\"eta\", criterion=NormPenalty(order=2), weight=0),\n",
    "                dict(key=\"theta_pairs\", criterion=KLDivergencePenalty(binary=True), weight=1),\n",
    "            ]),\n",
    "            optimizer=(o := torch.optim.SGD(s.parameters(), lr=1)),\n",
    "            scheduler=torch.optim.lr_scheduler.ExponentialLR(o, gamma=1),\n",
    "            dataset=dataset,\n",
    "            budget_penalty=BudgetPenalty(budget=10, order=2, beta=1),\n",
    "            target_probs={c: (0.9, 1)},\n",
    "            k_samples=16\n",
    "        )\n",
    "trainers[c].train(2000)"
   ]
  },
  {
   "cell_type": "code",
   "execution_count": 21,
   "metadata": {},
   "outputs": [
    {
     "name": "stdout",
     "output_type": "stream",
     "text": [
      "n=4 m=2\n",
      "logits=[-43.22081756591797, -60.8301887512207, -2.0228562355041504, -39.410850524902344]\n",
      "probs=[1.282192815183747e-18, 2.8860285165260234e-26, 1.0, 5.78896594518173e-17]\n"
     ]
    },
    {
     "data": {
      "image/png": "[encoded data removed]",
      "text/plain": [
       "<Figure size 640x480 with 1 Axes>"
      ]
     },
     "metadata": {},
     "output_type": "display_data"
    },
    {
     "data": {
      "text/plain": [
       "(<networkx.classes.graph.Graph at 0x7fe60d2194e0>,\n",
       " {'n': 4,\n",
       "  'm': 2,\n",
       "  'logits': [-43.22081756591797,\n",
       "   -60.8301887512207,\n",
       "   -2.0228562355041504,\n",
       "   -39.410850524902344],\n",
       "  'probs': [1.282192815183747e-18,\n",
       "   2.8860285165260234e-26,\n",
       "   1.0,\n",
       "   5.78896594518173e-17]})"
      ]
     },
     "execution_count": 21,
     "metadata": {},
     "output_type": "execute_result"
    }
   ],
   "source": [
    "trainers[2].evaluate(threshold=0.5, show=True)"
   ]
  },
  {
   "cell_type": "code",
   "execution_count": 25,
   "metadata": {},
   "outputs": [
    {
     "name": "stdout",
     "output_type": "stream",
     "text": [
      "n=4 m=2\n",
      "logits=[-39.32041931152344, 5.593085765838623, -38.78059005737305, -18.450393676757812]\n",
      "probs=[3.121133720038996e-20, 1.0, 5.354972445859954e-20, 3.6145093862405275e-11]\n"
     ]
    },
    {
     "data": {
      "image/png": "[encoded data removed]",
      "text/plain": [
       "<Figure size 640x480 with 1 Axes>"
      ]
     },
     "metadata": {},
     "output_type": "display_data"
    },
    {
     "data": {
      "text/plain": [
       "(<networkx.classes.graph.Graph at 0x7fe60d21aa10>,\n",
       " {'n': 4,\n",
       "  'm': 2,\n",
       "  'logits': [-39.32041931152344,\n",
       "   5.593085765838623,\n",
       "   -38.78059005737305,\n",
       "   -18.450393676757812],\n",
       "  'probs': [3.121133720038996e-20,\n",
       "   1.0,\n",
       "   5.354972445859954e-20,\n",
       "   3.6145093862405275e-11]})"
      ]
     },
     "execution_count": 25,
     "metadata": {},
     "output_type": "execute_result"
    }
   ],
   "source": [
    "trainers[1].evaluate(threshold=0.5, show=True)"
   ]
  },
  {
   "cell_type": "code",
   "execution_count": 26,
   "metadata": {},
   "outputs": [
    {
     "name": "stdout",
     "output_type": "stream",
     "text": [
      "n=2 m=1\n",
      "logits=[-0.783762514591217, -21.63024139404297, -11.302743911743164, -15.598034858703613]\n",
      "probs=[0.9999725818634033, 8.840505549834177e-10, 2.701796984183602e-05, 3.683253169128875e-07]\n"
     ]
    },
    {
     "data": {
      "image/png": "[encoded data removed]",
      "text/plain": [
       "<Figure size 640x480 with 1 Axes>"
      ]
     },
     "metadata": {},
     "output_type": "display_data"
    },
    {
     "data": {
      "text/plain": [
       "(<networkx.classes.graph.Graph at 0x7fe63d636680>,\n",
       " {'n': 2,\n",
       "  'm': 1,\n",
       "  'logits': [-0.783762514591217,\n",
       "   -21.63024139404297,\n",
       "   -11.302743911743164,\n",
       "   -15.598034858703613],\n",
       "  'probs': [0.9999725818634033,\n",
       "   8.840505549834177e-10,\n",
       "   2.701796984183602e-05,\n",
       "   3.683253169128875e-07]})"
      ]
     },
     "execution_count": 26,
     "metadata": {},
     "output_type": "execute_result"
    }
   ],
   "source": [
    "trainers[0].evaluate(threshold=0.5, show=True)"
   ]
  },
  {
   "cell_type": "code",
   "execution_count": null,
   "metadata": {},
   "outputs": [],
   "source": []
  }
 ],
 "metadata": {
  "kernelspec": {
   "display_name": "venv_new",
   "language": "python",
   "name": "python3"
  },
  "language_info": {
   "codemirror_mode": {
    "name": "ipython",
    "version": 3
   },
   "file_extension": ".py",
   "mimetype": "text/x-python",
   "name": "python",
   "nbconvert_exporter": "python",
   "pygments_lexer": "ipython3",
   "version": "3.10.12"
  }
 },
 "nbformat": 4,
 "nbformat_minor": 2
}
