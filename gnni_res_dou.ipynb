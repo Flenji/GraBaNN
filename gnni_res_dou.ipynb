{
 "cells": [
  {
   "cell_type": "code",
   "execution_count": 1,
   "metadata": {},
   "outputs": [],
   "source": [
    "from explainers.GNNBoundary.gnn_boundary.models.gcn_classifier import GCNClassifier as GCNClassifier\n",
    "import torch as torch"
   ]
  },
  {
   "cell_type": "code",
   "execution_count": 2,
   "metadata": {},
   "outputs": [],
   "source": [
    "import numpy as np"
   ]
  },
  {
   "cell_type": "code",
   "execution_count": 3,
   "metadata": {},
   "outputs": [
    {
     "data": {
      "text/plain": [
       "<All keys matched successfully>"
      ]
     },
     "execution_count": 3,
     "metadata": {},
     "output_type": "execute_result"
    }
   ],
   "source": [
    "\n",
    "model = GCNClassifier(node_features=3,\n",
    "                            num_classes=7,\n",
    "                            hidden_channels=16,\n",
    "                            num_layers=4)\n",
    "model.load_state_dict(torch.load('model/report_models/duo.pt'))"
   ]
  },
  {
   "cell_type": "code",
   "execution_count": 4,
   "metadata": {},
   "outputs": [],
   "source": [
    "from graph_generation.DuoSet import DuoSetCreator\n",
    "import libraries.dataLoaderWrapper as DLW\n",
    "dataset = DLW.GNNInterpreterLoaderWrapper(DuoSetCreator(5000, 50, True ,deterministicClass= True).getDataset())\n",
    "mean_embeds = dataset.mean_embeddings(model)\n"
   ]
  },
  {
   "cell_type": "code",
   "execution_count": 5,
   "metadata": {},
   "outputs": [
    {
     "data": {
      "text/plain": [
       "[array([   0,    3,    9, ..., 4997, 4998, 4999]),\n",
       " array([   4,   26,   40,   54,   72,   74,   80,   86,   91,   98,  100,\n",
       "         103,  107,  121,  122,  131,  133,  140,  158,  179,  192,  193,\n",
       "         197,  201,  202,  214,  220,  221,  223,  237,  251,  255,  262,\n",
       "         264,  281,  301,  310,  313,  315,  342,  373,  375,  388,  397,\n",
       "         403,  404,  410,  423,  441,  444,  448,  462,  471,  506,  508,\n",
       "         520,  522,  536,  547,  562,  565,  572,  575,  578,  592,  612,\n",
       "         620,  625,  636,  641,  660,  666,  670,  676,  681,  690,  696,\n",
       "         698,  710,  712,  715,  731,  748,  769,  772,  782,  783,  784,\n",
       "         790,  802,  812,  815,  832,  835,  836,  846,  847,  851,  853,\n",
       "         855,  865,  870,  889,  898,  903,  905,  924,  935,  952,  959,\n",
       "         965,  966,  977,  987,  992, 1002, 1009, 1016, 1023, 1027, 1029,\n",
       "        1038, 1044, 1047, 1061, 1092, 1093, 1099, 1104, 1113, 1122, 1132,\n",
       "        1139, 1161, 1162, 1208, 1212, 1217, 1226, 1227, 1231, 1236, 1245,\n",
       "        1249, 1263, 1317, 1329, 1351, 1360, 1361, 1368, 1372, 1396, 1397,\n",
       "        1414, 1415, 1423, 1425, 1430, 1437, 1446, 1458, 1466, 1468, 1472,\n",
       "        1473, 1480, 1496, 1497, 1499, 1503, 1525, 1533, 1546, 1556, 1582,\n",
       "        1583, 1595, 1626, 1633, 1636, 1637, 1649, 1652, 1653, 1669, 1676,\n",
       "        1682, 1695, 1697, 1699, 1704, 1721, 1726, 1727, 1732, 1748, 1763,\n",
       "        1775, 1784, 1803, 1807, 1820, 1821, 1844, 1846, 1848, 1864, 1869,\n",
       "        1871, 1895, 1900, 1908, 1915, 1918, 1949, 1954, 1966, 1973, 1979,\n",
       "        1987, 1989, 1990, 1999, 2002, 2005, 2009, 2014, 2016, 2026, 2034,\n",
       "        2042, 2043, 2045, 2046, 2054, 2063, 2070, 2071, 2074, 2076, 2077,\n",
       "        2084, 2109, 2118, 2151, 2152, 2155, 2159, 2160, 2174, 2202, 2206,\n",
       "        2213, 2216, 2224, 2225, 2231, 2236, 2248, 2252, 2261, 2269, 2272,\n",
       "        2273, 2275, 2276, 2278, 2281, 2283, 2287, 2297, 2301, 2302, 2308,\n",
       "        2333, 2339, 2349, 2354, 2355, 2358, 2363, 2366, 2367, 2369, 2387,\n",
       "        2400, 2409, 2417, 2419, 2420, 2426, 2434, 2438, 2439, 2446, 2474,\n",
       "        2477, 2478, 2491, 2495, 2496, 2501, 2502, 2503, 2505, 2510, 2511,\n",
       "        2519, 2533, 2535, 2545, 2547, 2556, 2570, 2581, 2602, 2604, 2614,\n",
       "        2646, 2661, 2691, 2695, 2720, 2732, 2735, 2756, 2758, 2775, 2777,\n",
       "        2781, 2788, 2795, 2823, 2847, 2853, 2855, 2856, 2863, 2866, 2877,\n",
       "        2890, 2900, 2901, 2914, 2921, 2932, 2948, 2955, 2959, 2965, 2980,\n",
       "        2985, 2986, 3012, 3013, 3019, 3038, 3047, 3051, 3061, 3093, 3097,\n",
       "        3105, 3115, 3124, 3146, 3165, 3172, 3177, 3184, 3185, 3193, 3205,\n",
       "        3209, 3213, 3232, 3233, 3250, 3255, 3257, 3261, 3269, 3278, 3285,\n",
       "        3293, 3294, 3314, 3317, 3364, 3368, 3387, 3388, 3402, 3403, 3407,\n",
       "        3411, 3412, 3416, 3419, 3420, 3425, 3432, 3436, 3441, 3443, 3461,\n",
       "        3463, 3465, 3481, 3487, 3488, 3494, 3499, 3503, 3505, 3508, 3512,\n",
       "        3532, 3545, 3575, 3579, 3580, 3585, 3586, 3594, 3621, 3627, 3632,\n",
       "        3641, 3644, 3645, 3646, 3650, 3663, 3669, 3677, 3680, 3701, 3707,\n",
       "        3715, 3735, 3740, 3758, 3778, 3783, 3802, 3807, 3810, 3821, 3824,\n",
       "        3825, 3828, 3834, 3841, 3842, 3848, 3857, 3858, 3862, 3896, 3903,\n",
       "        3905, 3906, 3907, 3911, 3920, 3922, 3926, 3927, 3928, 3930, 3933,\n",
       "        3934, 3940, 3961, 3981, 3985, 3987, 3989, 3990, 3994, 4001, 4013,\n",
       "        4016, 4020, 4021, 4023, 4030, 4032, 4034, 4037, 4040, 4050, 4052,\n",
       "        4072, 4078, 4079, 4081, 4092, 4110, 4112, 4115, 4116, 4141, 4164,\n",
       "        4166, 4167, 4174, 4176, 4192, 4194, 4206, 4209, 4211, 4246, 4259,\n",
       "        4275, 4284, 4286, 4294, 4295, 4299, 4301, 4305, 4306, 4310, 4312,\n",
       "        4317, 4335, 4353, 4365, 4366, 4368, 4374, 4402, 4412, 4415, 4418,\n",
       "        4429, 4430, 4434, 4439, 4440, 4447, 4451, 4458, 4465, 4470, 4479,\n",
       "        4483, 4485, 4522, 4526, 4555, 4557, 4579, 4584, 4591, 4594, 4602,\n",
       "        4604, 4607, 4612, 4621, 4638, 4642, 4646, 4661, 4663, 4665, 4684,\n",
       "        4696, 4699, 4700, 4712, 4723, 4724, 4736, 4751, 4755, 4758, 4764,\n",
       "        4773, 4778, 4790, 4796, 4801, 4806, 4811, 4817, 4818, 4838, 4839,\n",
       "        4846, 4856, 4858, 4859, 4862, 4874, 4889, 4894, 4899, 4906, 4913,\n",
       "        4919, 4920, 4925, 4931, 4939, 4942, 4947, 4956, 4974, 4985]),\n",
       " array([   1,    6,    8,   14,   16,   23,   64,   65,   68,   77,   78,\n",
       "          90,   94,  111,  120,  132,  139,  144,  148,  170,  171,  175,\n",
       "         176,  188,  194,  196,  205,  206,  218,  222,  225,  227,  239,\n",
       "         242,  246,  249,  250,  256,  265,  283,  285,  287,  293,  308,\n",
       "         316,  319,  322,  335,  337,  346,  347,  360,  361,  365,  369,\n",
       "         377,  394,  401,  406,  414,  417,  419,  425,  426,  427,  437,\n",
       "         449,  452,  453,  459,  464,  466,  467,  480,  483,  488,  512,\n",
       "         513,  514,  534,  557,  566,  569,  571,  573,  577,  580,  589,\n",
       "         602,  603,  606,  608,  610,  616,  621,  623,  632,  644,  646,\n",
       "         652,  653,  656,  659,  683,  685,  691,  693,  701,  726,  727,\n",
       "         728,  734,  737,  740,  741,  754,  761,  768,  777,  779,  799,\n",
       "         809,  820,  825,  838,  839,  877,  879,  883,  888,  901,  907,\n",
       "         913,  938,  943,  953,  956,  962,  984,  989,  996,  998, 1005,\n",
       "        1018, 1024, 1033, 1041, 1089, 1098, 1109, 1120, 1125, 1137, 1138,\n",
       "        1140, 1142, 1150, 1151, 1159, 1163, 1169, 1179, 1185, 1186, 1191,\n",
       "        1198, 1209, 1230, 1232, 1237, 1246, 1250, 1262, 1264, 1265, 1266,\n",
       "        1270, 1276, 1277, 1281, 1295, 1319, 1322, 1332, 1343, 1350, 1394,\n",
       "        1398, 1402, 1405, 1406, 1418, 1436, 1442, 1460, 1461, 1464, 1470,\n",
       "        1478, 1481, 1485, 1504, 1519, 1523, 1536, 1539, 1553, 1554, 1573,\n",
       "        1584, 1590, 1591, 1602, 1607, 1609, 1611, 1612, 1615, 1624, 1628,\n",
       "        1656, 1658, 1692, 1694, 1702, 1710, 1718, 1719, 1723, 1728, 1737,\n",
       "        1740, 1744, 1757, 1760, 1766, 1770, 1781, 1788, 1791, 1792, 1794,\n",
       "        1797, 1818, 1819, 1823, 1830, 1831, 1836, 1851, 1863, 1867, 1873,\n",
       "        1880, 1885, 1886, 1890, 1917, 1924, 1926, 1928, 1929, 1931, 1933,\n",
       "        1942, 1950, 1960, 1972, 1983, 1992, 1994, 1996, 1997, 2008, 2020,\n",
       "        2023, 2044, 2049, 2053, 2058, 2064, 2068, 2078, 2079, 2080, 2083,\n",
       "        2097, 2111, 2153, 2154, 2175, 2185, 2196, 2203, 2207, 2212, 2214,\n",
       "        2220, 2226, 2249, 2266, 2289, 2290, 2291, 2299, 2304, 2325, 2337,\n",
       "        2353, 2379, 2399, 2402, 2407, 2424, 2437, 2445, 2459, 2461, 2473,\n",
       "        2486, 2490, 2497, 2500, 2513, 2523, 2524, 2525, 2529, 2560, 2565,\n",
       "        2566, 2574, 2578, 2587, 2588, 2592, 2595, 2599, 2603, 2618, 2619,\n",
       "        2635, 2654, 2655, 2657, 2667, 2671, 2686, 2697, 2705, 2710, 2714,\n",
       "        2721, 2726, 2748, 2751, 2755, 2761, 2764, 2768, 2769, 2774, 2779,\n",
       "        2783, 2784, 2790, 2800, 2816, 2820, 2825, 2829, 2833, 2852, 2858,\n",
       "        2881, 2882, 2883, 2884, 2888, 2893, 2897, 2898, 2902, 2907, 2913,\n",
       "        2926, 2927, 2930, 2934, 2935, 2946, 2953, 2962, 2996, 3008, 3018,\n",
       "        3025, 3032, 3033, 3044, 3045, 3053, 3055, 3056, 3070, 3073, 3078,\n",
       "        3079, 3080, 3081, 3090, 3098, 3109, 3120, 3123, 3125, 3126, 3130,\n",
       "        3131, 3142, 3158, 3161, 3164, 3167, 3182, 3183, 3196, 3203, 3212,\n",
       "        3215, 3219, 3224, 3230, 3238, 3265, 3287, 3289, 3304, 3341, 3344,\n",
       "        3345, 3355, 3362, 3367, 3380, 3383, 3408, 3424, 3427, 3428, 3430,\n",
       "        3439, 3442, 3445, 3466, 3479, 3480, 3485, 3489, 3493, 3495, 3496,\n",
       "        3500, 3511, 3514, 3517, 3519, 3523, 3526, 3553, 3560, 3561, 3569,\n",
       "        3581, 3589, 3597, 3602, 3608, 3648, 3652, 3662, 3664, 3691, 3700,\n",
       "        3708, 3716, 3727, 3738, 3785, 3796, 3813, 3814, 3816, 3822, 3830,\n",
       "        3833, 3835, 3843, 3863, 3869, 3879, 3880, 3883, 3894, 3895, 3898,\n",
       "        3916, 3918, 3935, 3944, 3952, 3957, 3958, 3962, 3965, 3972, 3976,\n",
       "        3977, 3980, 3983, 3986, 4000, 4005, 4015, 4017, 4028, 4049, 4060,\n",
       "        4069, 4088, 4095, 4100, 4101, 4105, 4118, 4123, 4138, 4146, 4147,\n",
       "        4149, 4157, 4168, 4183, 4187, 4189, 4190, 4198, 4203, 4208, 4218,\n",
       "        4221, 4223, 4234, 4239, 4248, 4250, 4255, 4257, 4261, 4269, 4273,\n",
       "        4277, 4288, 4303, 4332, 4336, 4341, 4350, 4358, 4370, 4371, 4372,\n",
       "        4375, 4379, 4390, 4391, 4397, 4407, 4413, 4419, 4424, 4445, 4446,\n",
       "        4448, 4464, 4486, 4488, 4492, 4496, 4506, 4525, 4531, 4544, 4545,\n",
       "        4588, 4590, 4600, 4603, 4614, 4615, 4619, 4645, 4667, 4675, 4677,\n",
       "        4706, 4731, 4741, 4752, 4753, 4767, 4777, 4780, 4799, 4804, 4807,\n",
       "        4812, 4814, 4826, 4827, 4841, 4848, 4851, 4875, 4877, 4891, 4908,\n",
       "        4910, 4917, 4928, 4936, 4951, 4953, 4954, 4957, 4961, 4962, 4963,\n",
       "        4968, 4975, 4983, 4986, 4987, 4994, 4995]),\n",
       " array([   2,   22,   24,   28,   31,   33,   42,   48,   56,   61,   70,\n",
       "          76,   87,   92,  104,  117,  119,  142,  156,  169,  182,  184,\n",
       "         204,  213,  217,  230,  234,  235,  238,  243,  258,  271,  275,\n",
       "         276,  286,  302,  307,  314,  318,  334,  340,  341,  356,  362,\n",
       "         370,  389,  409,  412,  413,  416,  422,  435,  458,  463,  468,\n",
       "         473,  484,  494,  518,  530,  544,  549,  550,  553,  581,  583,\n",
       "         584,  593,  594,  617,  618,  630,  648,  657,  661,  662,  667,\n",
       "         668,  694,  695,  699,  705,  708,  718,  721,  743,  753,  765,\n",
       "         771,  798,  807,  833,  842,  860,  871,  872,  884,  892,  895,\n",
       "         899,  902,  925,  933,  936,  957,  960,  968,  969,  972,  975,\n",
       "         990,  994, 1003, 1012, 1014, 1017, 1020, 1025, 1026, 1028, 1031,\n",
       "        1034, 1035, 1037, 1048, 1051, 1056, 1067, 1100, 1105, 1115, 1124,\n",
       "        1128, 1130, 1136, 1144, 1149, 1166, 1170, 1175, 1177, 1180, 1187,\n",
       "        1190, 1199, 1201, 1207, 1216, 1218, 1251, 1268, 1274, 1279, 1285,\n",
       "        1287, 1291, 1324, 1326, 1333, 1334, 1337, 1339, 1347, 1354, 1369,\n",
       "        1374, 1379, 1380, 1382, 1383, 1385, 1387, 1389, 1393, 1399, 1400,\n",
       "        1404, 1408, 1409, 1413, 1428, 1439, 1449, 1451, 1453, 1454, 1467,\n",
       "        1493, 1501, 1508, 1520, 1526, 1529, 1532, 1542, 1564, 1589, 1594,\n",
       "        1604, 1616, 1618, 1619, 1621, 1630, 1639, 1640, 1657, 1687, 1712,\n",
       "        1715, 1725, 1729, 1733, 1741, 1756, 1759, 1786, 1799, 1808, 1811,\n",
       "        1814, 1816, 1822, 1825, 1849, 1850, 1853, 1855, 1865, 1868, 1877,\n",
       "        1912, 1916, 1925, 1935, 1937, 1939, 1948, 1959, 1961, 1962, 1968,\n",
       "        1969, 1977, 1981, 2001, 2004, 2012, 2018, 2019, 2025, 2037, 2038,\n",
       "        2039, 2052, 2055, 2056, 2057, 2061, 2073, 2081, 2082, 2093, 2098,\n",
       "        2100, 2102, 2114, 2120, 2129, 2132, 2140, 2144, 2193, 2197, 2199,\n",
       "        2208, 2211, 2215, 2234, 2241, 2242, 2264, 2271, 2284, 2285, 2292,\n",
       "        2305, 2318, 2319, 2320, 2330, 2341, 2343, 2346, 2377, 2383, 2384,\n",
       "        2396, 2410, 2425, 2427, 2454, 2465, 2468, 2476, 2483, 2489, 2493,\n",
       "        2506, 2515, 2517, 2538, 2542, 2554, 2558, 2583, 2591, 2605, 2608,\n",
       "        2611, 2616, 2620, 2626, 2628, 2642, 2658, 2663, 2665, 2669, 2676,\n",
       "        2681, 2701, 2702, 2708, 2711, 2712, 2717, 2719, 2727, 2728, 2738,\n",
       "        2740, 2741, 2746, 2747, 2760, 2771, 2776, 2786, 2794, 2799, 2802,\n",
       "        2805, 2817, 2821, 2822, 2828, 2839, 2840, 2849, 2857, 2867, 2871,\n",
       "        2878, 2885, 2886, 2887, 2904, 2910, 2911, 2923, 2924, 2936, 2949,\n",
       "        2954, 2961, 2963, 2964, 2967, 2972, 2983, 2990, 3007, 3017, 3020,\n",
       "        3021, 3034, 3040, 3050, 3059, 3074, 3075, 3085, 3091, 3101, 3102,\n",
       "        3103, 3116, 3133, 3138, 3141, 3151, 3154, 3155, 3157, 3168, 3176,\n",
       "        3178, 3192, 3194, 3199, 3200, 3214, 3218, 3221, 3234, 3236, 3237,\n",
       "        3242, 3243, 3246, 3249, 3254, 3295, 3303, 3308, 3338, 3348, 3356,\n",
       "        3358, 3359, 3376, 3384, 3390, 3391, 3393, 3395, 3397, 3410, 3447,\n",
       "        3448, 3451, 3457, 3476, 3484, 3507, 3513, 3524, 3527, 3534, 3538,\n",
       "        3540, 3549, 3558, 3568, 3571, 3582, 3591, 3613, 3617, 3618, 3625,\n",
       "        3628, 3630, 3633, 3653, 3657, 3671, 3681, 3683, 3690, 3699, 3703,\n",
       "        3717, 3728, 3733, 3741, 3743, 3747, 3748, 3764, 3765, 3768, 3774,\n",
       "        3777, 3818, 3827, 3840, 3844, 3855, 3884, 3897, 3910, 3923, 3932,\n",
       "        3947, 3953, 3959, 3960, 3966, 3997, 4014, 4018, 4044, 4067, 4070,\n",
       "        4073, 4074, 4076, 4077, 4090, 4093, 4096, 4108, 4113, 4124, 4134,\n",
       "        4136, 4151, 4153, 4158, 4169, 4173, 4177, 4179, 4207, 4214, 4216,\n",
       "        4222, 4225, 4237, 4240, 4245, 4270, 4276, 4279, 4290, 4300, 4311,\n",
       "        4315, 4325, 4347, 4355, 4364, 4387, 4392, 4409, 4411, 4435, 4456,\n",
       "        4459, 4463, 4482, 4487, 4498, 4507, 4509, 4512, 4517, 4536, 4537,\n",
       "        4540, 4549, 4550, 4551, 4561, 4564, 4565, 4573, 4586, 4587, 4595,\n",
       "        4623, 4629, 4656, 4658, 4666, 4669, 4671, 4674, 4679, 4686, 4695,\n",
       "        4710, 4717, 4722, 4733, 4743, 4745, 4750, 4754, 4757, 4793, 4798,\n",
       "        4802, 4810, 4822, 4829, 4837, 4844, 4850, 4855, 4857, 4881, 4892,\n",
       "        4898, 4905, 4916, 4940, 4952, 4960, 4978, 4981, 4992]),\n",
       " array([  75,  109,  135,  147,  154,  167,  191,  208,  231,  232,  244,\n",
       "         268,  284,  289,  300,  348,  391,  431,  454,  470,  490,  493,\n",
       "         516,  579,  595,  596,  614,  645,  658,  665,  671,  706,  717,\n",
       "         752,  757,  764,  778,  787,  801,  821,  854,  893,  923,  930,\n",
       "         931,  979,  980,  981, 1006, 1050, 1062, 1083, 1094, 1135, 1153,\n",
       "        1164, 1165, 1206, 1240, 1272, 1341, 1353, 1479, 1490, 1565, 1580,\n",
       "        1598, 1600, 1603, 1629, 1635, 1638, 1648, 1659, 1664, 1772, 1779,\n",
       "        1793, 1834, 1870, 1892, 1941, 1971, 1975, 1986, 2013, 2095, 2103,\n",
       "        2137, 2138, 2156, 2172, 2173, 2177, 2178, 2184, 2219, 2255, 2259,\n",
       "        2260, 2267, 2314, 2329, 2391, 2398, 2466, 2504, 2534, 2555, 2601,\n",
       "        2650, 2709, 2742, 2766, 2836, 2841, 2844, 2845, 2874, 2876, 2891,\n",
       "        2905, 2951, 2973, 2979, 2981, 2991, 3028, 3049, 3077, 3129, 3135,\n",
       "        3171, 3201, 3239, 3251, 3256, 3350, 3373, 3392, 3444, 3446, 3462,\n",
       "        3520, 3525, 3547, 3574, 3603, 3604, 3605, 3622, 3634, 3660, 3665,\n",
       "        3689, 3705, 3760, 3786, 3800, 3806, 3809, 3849, 3877, 3890, 3938,\n",
       "        3945, 3956, 4099, 4119, 4126, 4132, 4139, 4165, 4210, 4217, 4226,\n",
       "        4241, 4242, 4249, 4316, 4340, 4383, 4385, 4399, 4433, 4469, 4477,\n",
       "        4518, 4527, 4576, 4585, 4625, 4657, 4690, 4715, 4716, 4746, 4761,\n",
       "        4766, 4775, 4776, 4788, 4791, 4808, 4849, 4866, 4868, 4872, 4885,\n",
       "        4924, 4993]),\n",
       " array([   7,   15,   25,   71,   99,  101,  136,  164,  173,  174,  183,\n",
       "         187,  200,  229,  252,  280,  303,  305,  312,  336,  352,  395,\n",
       "         420,  421,  439,  447,  472,  491,  509,  510,  519,  611,  639,\n",
       "         654,  669,  733,  749,  762,  776,  803,  823,  824,  844,  845,\n",
       "         862,  873,  916,  985,  988, 1001, 1039, 1119, 1158, 1181, 1214,\n",
       "        1241, 1292, 1307, 1308, 1328, 1338, 1384, 1407, 1412, 1424, 1445,\n",
       "        1456, 1462, 1487, 1515, 1521, 1559, 1563, 1578, 1585, 1686, 1689,\n",
       "        1706, 1753, 1769, 1804, 1828, 1887, 1888, 1910, 1951, 1965, 2006,\n",
       "        2011, 2051, 2059, 2085, 2092, 2139, 2141, 2157, 2166, 2170, 2183,\n",
       "        2194, 2221, 2251, 2335, 2348, 2365, 2394, 2397, 2429, 2452, 2453,\n",
       "        2472, 2499, 2516, 2522, 2528, 2544, 2548, 2612, 2690, 2692, 2725,\n",
       "        2729, 2730, 2778, 2807, 2815, 2843, 2875, 2915, 2917, 2933, 2966,\n",
       "        2988, 2995, 3026, 3027, 3030, 3121, 3170, 3217, 3222, 3252, 3300,\n",
       "        3315, 3336, 3339, 3354, 3375, 3381, 3409, 3456, 3467, 3468, 3478,\n",
       "        3482, 3483, 3530, 3533, 3546, 3554, 3563, 3565, 3584, 3626, 3638,\n",
       "        3672, 3673, 3685, 3756, 3759, 3773, 3781, 3799, 3829, 3847, 3867,\n",
       "        3889, 3909, 3919, 3931, 3967, 3971, 3973, 3982, 3988, 3993, 4026,\n",
       "        4042, 4043, 4055, 4068, 4085, 4191, 4201, 4204, 4292, 4308, 4339,\n",
       "        4360, 4389, 4405, 4420, 4426, 4437, 4454, 4491, 4501, 4520, 4609,\n",
       "        4628, 4636, 4647, 4652, 4683, 4685, 4691, 4692, 4701, 4708, 4729,\n",
       "        4744, 4774, 4787, 4830, 4863, 4903, 4904, 4907, 4934, 4958, 4989]),\n",
       " array([   5,   34,  137,  141,  150,  157,  161,  162,  257,  273,  306,\n",
       "         311,  317,  363,  374,  381,  386,  446,  477,  481,  485,  532,\n",
       "         540,  554,  559,  591,  597,  609,  619,  650,  703,  745,  796,\n",
       "         811,  864,  908,  919,  942,  950,  974, 1004, 1021, 1054, 1057,\n",
       "        1075, 1076, 1108, 1111, 1133, 1146, 1152, 1155, 1194, 1215, 1233,\n",
       "        1247, 1257, 1304, 1311, 1312, 1342, 1358, 1359, 1366, 1390, 1474,\n",
       "        1486, 1495, 1502, 1524, 1545, 1549, 1561, 1570, 1586, 1622, 1641,\n",
       "        1671, 1672, 1677, 1680, 1691, 1696, 1707, 1754, 1771, 1776, 1778,\n",
       "        1795, 1891, 1945, 1978, 2033, 2062, 2096, 2121, 2163, 2165, 2182,\n",
       "        2239, 2253, 2262, 2270, 2317, 2323, 2350, 2362, 2364, 2371, 2380,\n",
       "        2388, 2413, 2416, 2431, 2444, 2460, 2568, 2622, 2668, 2698, 2713,\n",
       "        2739, 2744, 2796, 2824, 2826, 2830, 2846, 2865, 2912, 2938, 2939,\n",
       "        2960, 2975, 2987, 2992, 2993, 3004, 3005, 3009, 3022, 3052, 3094,\n",
       "        3106, 3127, 3150, 3226, 3229, 3235, 3264, 3281, 3292, 3316, 3325,\n",
       "        3335, 3401, 3464, 3490, 3498, 3522, 3539, 3541, 3542, 3550, 3578,\n",
       "        3593, 3629, 3642, 3687, 3757, 3767, 3864, 3871, 3881, 3913, 3929,\n",
       "        3936, 3975, 4008, 4046, 4059, 4066, 4094, 4117, 4144, 4154, 4170,\n",
       "        4172, 4196, 4243, 4256, 4267, 4278, 4280, 4287, 4289, 4298, 4331,\n",
       "        4337, 4342, 4344, 4357, 4367, 4453, 4466, 4468, 4500, 4510, 4514,\n",
       "        4539, 4543, 4547, 4548, 4552, 4577, 4583, 4599, 4633, 4635, 4641,\n",
       "        4655, 4660, 4662, 4678, 4698, 4709, 4742, 4770, 4772, 4782, 4785,\n",
       "        4794, 4803, 4816, 4831, 4834, 4873, 4930, 4932, 4959, 4971])]"
      ]
     },
     "execution_count": 5,
     "metadata": {},
     "output_type": "execute_result"
    }
   ],
   "source": [
    "y = [data.y for data in dataset]\n",
    "classes = np.unique(y)\n",
    "class_indexes = []\n",
    "for c in classes:\n",
    "    class_indexes.append(np.where(y == c)[0])\n",
    "class_indexes"
   ]
  },
  {
   "cell_type": "code",
   "execution_count": 6,
   "metadata": {},
   "outputs": [
    {
     "data": {
      "text/plain": [
       "array([0, 1, 2, 3, 4, 5, 6])"
      ]
     },
     "execution_count": 6,
     "metadata": {},
     "output_type": "execute_result"
    }
   ],
   "source": [
    "classes"
   ]
  },
  {
   "cell_type": "code",
   "execution_count": 8,
   "metadata": {},
   "outputs": [],
   "source": [
    "\n",
    "trainers = {}"
   ]
  },
  {
   "cell_type": "code",
   "execution_count": 60,
   "metadata": {},
   "outputs": [
    {
     "data": {
      "application/vnd.jupyter.widget-view+json": {
       "model_id": "bfb570b61a7f40228e3ad6eeaa9dacbc",
       "version_major": 2,
       "version_minor": 0
      },
      "text/plain": [
       "  0%|          | 0/2000 [00:00<?, ?it/s]"
      ]
     },
     "metadata": {},
     "output_type": "display_data"
    },
    {
     "data": {
      "text/plain": [
       "True"
      ]
     },
     "execution_count": 60,
     "metadata": {},
     "output_type": "execute_result"
    }
   ],
   "source": [
    "from explainers.gnninterpreter import *\n",
    "c = 0\n",
    "\n",
    "trainers[c] = Trainer(\n",
    "            sampler=(s := GraphSampler(\n",
    "                max_nodes=30,\n",
    "                num_node_cls=3,\n",
    "                temperature=0.45,\n",
    "                learn_node_feat=True\n",
    "            )),\n",
    "            discriminator=model,\n",
    "            criterion=WeightedCriterion([\n",
    "                dict(key=\"logits\", criterion=ClassScoreCriterion(class_idx=c, mode='maximize'), weight=20),\n",
    "                dict(key=\"logits\", criterion=ClassScoreCriterion(class_idx=0, mode='minimize'), weight=50),\n",
    "                dict(key=\"embeds\", criterion=EmbeddingCriterion(target_embedding=mean_embeds[c]), weight=0),\n",
    "                dict(key=\"logits\", criterion=MeanPenalty(), weight=0),\n",
    "                dict(key=\"omega\", criterion=NormPenalty(order=1), weight=0),\n",
    "                dict(key=\"omega\", criterion=NormPenalty(order=2), weight=0),\n",
    "                dict(key=\"xi\", criterion=NormPenalty(order=1), weight=1),\n",
    "                dict(key=\"xi\", criterion=NormPenalty(order=2), weight=1),\n",
    "                # dict(key=\"eta\", criterion=NormPenalty(order=1), weight=0),\n",
    "                # dict(key=\"eta\", criterion=NormPenalty(order=2), weight=0),\n",
    "                dict(key=\"theta_pairs\", criterion=KLDivergencePenalty(binary=True), weight=0),\n",
    "            ]),\n",
    "            optimizer=(o := torch.optim.SGD(s.parameters(), lr=1)),\n",
    "            scheduler=torch.optim.lr_scheduler.ExponentialLR(o, gamma=1),\n",
    "            dataset=dataset,\n",
    "            budget_penalty=BudgetPenalty(budget=10, order=2, beta=1),\n",
    "            target_probs={c: (0.9, 1)},\n",
    "            k_samples=32\n",
    "        )\n",
    "trainers[c].train(2000)"
   ]
  },
  {
   "cell_type": "code",
   "execution_count": 61,
   "metadata": {},
   "outputs": [
    {
     "name": "stdout",
     "output_type": "stream",
     "text": [
      "n=9 m=5\n",
      "logits=[-1.3859267234802246, -6.395005702972412, -6.955480575561523, -6.891915798187256, -15.904071807861328, -15.970722198486328, -15.344279289245605]\n",
      "probs=[0.9856553077697754, 0.006581270135939121, 0.003757496364414692, 0.0040040952153503895, 4.881743507212377e-07, 4.566979612263822e-07, 8.544553224965057e-07]\n"
     ]
    },
    {
     "data": {
      "image/png": "[encoded data removed]",
      "text/plain": [
       "<Figure size 640x480 with 1 Axes>"
      ]
     },
     "metadata": {},
     "output_type": "display_data"
    },
    {
     "data": {
      "text/plain": [
       "(<networkx.classes.graph.Graph at 0x7f0a38f281c0>,\n",
       " {'n': 9,\n",
       "  'm': 5,\n",
       "  'logits': [-1.3859267234802246,\n",
       "   -6.395005702972412,\n",
       "   -6.955480575561523,\n",
       "   -6.891915798187256,\n",
       "   -15.904071807861328,\n",
       "   -15.970722198486328,\n",
       "   -15.344279289245605],\n",
       "  'probs': [0.9856553077697754,\n",
       "   0.006581270135939121,\n",
       "   0.003757496364414692,\n",
       "   0.0040040952153503895,\n",
       "   4.881743507212377e-07,\n",
       "   4.566979612263822e-07,\n",
       "   8.544553224965057e-07]})"
      ]
     },
     "execution_count": 61,
     "metadata": {},
     "output_type": "execute_result"
    }
   ],
   "source": [
    "trainers[0].evaluate(threshold=0.6, show=True)"
   ]
  },
  {
   "cell_type": "code",
   "execution_count": 46,
   "metadata": {},
   "outputs": [
    {
     "name": "stdout",
     "output_type": "stream",
     "text": [
      "n=4 m=2\n",
      "logits=[-0.6929597854614258, 0.04667513817548752, -2.7105557918548584, -4.180185317993164, -2.667658805847168, -2.550492286682129, -6.357420444488525]\n",
      "probs=[0.28113120794296265, 0.5890178084373474, 0.03738334774971008, 0.00859856978058815, 0.03902187570929527, 0.04387255385518074, 0.0009746866417117417]\n"
     ]
    },
    {
     "data": {
      "image/png": "[encoded data removed]",
      "text/plain": [
       "<Figure size 640x480 with 1 Axes>"
      ]
     },
     "metadata": {},
     "output_type": "display_data"
    },
    {
     "data": {
      "text/plain": [
       "(<networkx.classes.graph.Graph at 0x7f0a35489750>,\n",
       " {'n': 4,\n",
       "  'm': 2,\n",
       "  'logits': [-0.6929597854614258,\n",
       "   0.04667513817548752,\n",
       "   -2.7105557918548584,\n",
       "   -4.180185317993164,\n",
       "   -2.667658805847168,\n",
       "   -2.550492286682129,\n",
       "   -6.357420444488525],\n",
       "  'probs': [0.28113120794296265,\n",
       "   0.5890178084373474,\n",
       "   0.03738334774971008,\n",
       "   0.00859856978058815,\n",
       "   0.03902187570929527,\n",
       "   0.04387255385518074,\n",
       "   0.0009746866417117417]})"
      ]
     },
     "execution_count": 46,
     "metadata": {},
     "output_type": "execute_result"
    }
   ],
   "source": [
    "trainers[1].evaluate(threshold=0.6, show=True)"
   ]
  },
  {
   "cell_type": "code",
   "execution_count": 52,
   "metadata": {},
   "outputs": [
    {
     "ename": "Exception",
     "evalue": "Empty graph!",
     "output_type": "error",
     "traceback": [
      "\u001b[0;31m---------------------------------------------------------------------------\u001b[0m",
      "\u001b[0;31mException\u001b[0m                                 Traceback (most recent call last)",
      "Cell \u001b[0;32mIn[52], line 1\u001b[0m\n\u001b[0;32m----> 1\u001b[0m \u001b[43mtrainers\u001b[49m\u001b[43m[\u001b[49m\u001b[38;5;241;43m2\u001b[39;49m\u001b[43m]\u001b[49m\u001b[38;5;241;43m.\u001b[39;49m\u001b[43mevaluate\u001b[49m\u001b[43m(\u001b[49m\u001b[43mthreshold\u001b[49m\u001b[38;5;241;43m=\u001b[39;49m\u001b[38;5;241;43m0.1\u001b[39;49m\u001b[43m,\u001b[49m\u001b[43m \u001b[49m\u001b[43mshow\u001b[49m\u001b[38;5;241;43m=\u001b[39;49m\u001b[38;5;28;43;01mTrue\u001b[39;49;00m\u001b[43m)\u001b[49m\n",
      "File \u001b[0;32m~/AAU/2_semester/project/GraBaNN/venv/lib/python3.10/site-packages/torch/utils/_contextlib.py:115\u001b[0m, in \u001b[0;36mcontext_decorator.<locals>.decorate_context\u001b[0;34m(*args, **kwargs)\u001b[0m\n\u001b[1;32m    112\u001b[0m \u001b[38;5;129m@functools\u001b[39m\u001b[38;5;241m.\u001b[39mwraps(func)\n\u001b[1;32m    113\u001b[0m \u001b[38;5;28;01mdef\u001b[39;00m \u001b[38;5;21mdecorate_context\u001b[39m(\u001b[38;5;241m*\u001b[39margs, \u001b[38;5;241m*\u001b[39m\u001b[38;5;241m*\u001b[39mkwargs):\n\u001b[1;32m    114\u001b[0m     \u001b[38;5;28;01mwith\u001b[39;00m ctx_factory():\n\u001b[0;32m--> 115\u001b[0m         \u001b[38;5;28;01mreturn\u001b[39;00m \u001b[43mfunc\u001b[49m\u001b[43m(\u001b[49m\u001b[38;5;241;43m*\u001b[39;49m\u001b[43margs\u001b[49m\u001b[43m,\u001b[49m\u001b[43m \u001b[49m\u001b[38;5;241;43m*\u001b[39;49m\u001b[38;5;241;43m*\u001b[39;49m\u001b[43mkwargs\u001b[49m\u001b[43m)\u001b[49m\n",
      "File \u001b[0;32m~/AAU/2_semester/project/GraBaNN/explainers/gnninterpreter/trainer.py:144\u001b[0m, in \u001b[0;36mTrainer.evaluate\u001b[0;34m(self, show, connected, *args, **kwargs)\u001b[0m\n\u001b[1;32m    141\u001b[0m \u001b[38;5;129m@torch\u001b[39m\u001b[38;5;241m.\u001b[39mno_grad()\n\u001b[1;32m    142\u001b[0m \u001b[38;5;28;01mdef\u001b[39;00m \u001b[38;5;21mevaluate\u001b[39m(\u001b[38;5;28mself\u001b[39m, \u001b[38;5;241m*\u001b[39margs, show\u001b[38;5;241m=\u001b[39m\u001b[38;5;28;01mFalse\u001b[39;00m, connected\u001b[38;5;241m=\u001b[39m\u001b[38;5;28;01mFalse\u001b[39;00m, \u001b[38;5;241m*\u001b[39m\u001b[38;5;241m*\u001b[39mkwargs):\n\u001b[1;32m    143\u001b[0m     \u001b[38;5;28mself\u001b[39m\u001b[38;5;241m.\u001b[39msampler\u001b[38;5;241m.\u001b[39meval()\n\u001b[0;32m--> 144\u001b[0m     G \u001b[38;5;241m=\u001b[39m \u001b[38;5;28;43mself\u001b[39;49m\u001b[38;5;241;43m.\u001b[39;49m\u001b[43msampler\u001b[49m\u001b[38;5;241;43m.\u001b[39;49m\u001b[43msample\u001b[49m\u001b[43m(\u001b[49m\u001b[38;5;241;43m*\u001b[39;49m\u001b[43margs\u001b[49m\u001b[43m,\u001b[49m\u001b[43m \u001b[49m\u001b[38;5;241;43m*\u001b[39;49m\u001b[38;5;241;43m*\u001b[39;49m\u001b[43mkwargs\u001b[49m\u001b[43m)\u001b[49m\n\u001b[1;32m    145\u001b[0m     \u001b[38;5;28;01mif\u001b[39;00m connected:\n\u001b[1;32m    146\u001b[0m         G \u001b[38;5;241m=\u001b[39m \u001b[38;5;28msorted\u001b[39m([G\u001b[38;5;241m.\u001b[39msubgraph(c) \u001b[38;5;28;01mfor\u001b[39;00m c \u001b[38;5;129;01min\u001b[39;00m nx\u001b[38;5;241m.\u001b[39mconnected_components(G)], key\u001b[38;5;241m=\u001b[39m\u001b[38;5;28;01mlambda\u001b[39;00m g: g\u001b[38;5;241m.\u001b[39mnumber_of_nodes())[\u001b[38;5;241m-\u001b[39m\u001b[38;5;241m1\u001b[39m]\n",
      "File \u001b[0;32m~/AAU/2_semester/project/GraBaNN/explainers/gnninterpreter/graph_sampler.py:281\u001b[0m, in \u001b[0;36mGraphSampler.sample\u001b[0;34m(self, threshold, k, bernoulli)\u001b[0m\n\u001b[1;32m    279\u001b[0m \u001b[38;5;28;01mif\u001b[39;00m bernoulli:\n\u001b[1;32m    280\u001b[0m     threshold \u001b[38;5;241m=\u001b[39m \u001b[38;5;28mself\u001b[39m\u001b[38;5;241m.\u001b[39m_bernoulli_threshold()\n\u001b[0;32m--> 281\u001b[0m \u001b[38;5;28;01mreturn\u001b[39;00m \u001b[38;5;28;43mself\u001b[39;49m\u001b[38;5;241;43m.\u001b[39;49m\u001b[43msample_by_threshold\u001b[49m\u001b[43m(\u001b[49m\u001b[43mthreshold\u001b[49m\u001b[38;5;241;43m=\u001b[39;49m\u001b[43mthreshold\u001b[49m\u001b[43m)\u001b[49m\n",
      "File \u001b[0;32m~/AAU/2_semester/project/GraBaNN/explainers/gnninterpreter/graph_sampler.py:255\u001b[0m, in \u001b[0;36mGraphSampler.sample_by_threshold\u001b[0;34m(self, threshold)\u001b[0m\n\u001b[1;32m    253\u001b[0m G \u001b[38;5;241m=\u001b[39m nx\u001b[38;5;241m.\u001b[39mGraph(edge_list)\n\u001b[1;32m    254\u001b[0m \u001b[38;5;28;01mif\u001b[39;00m G\u001b[38;5;241m.\u001b[39mnumber_of_nodes() \u001b[38;5;241m==\u001b[39m \u001b[38;5;241m0\u001b[39m:\n\u001b[0;32m--> 255\u001b[0m     \u001b[38;5;28;01mraise\u001b[39;00m \u001b[38;5;167;01mException\u001b[39;00m(\u001b[38;5;124m\"\u001b[39m\u001b[38;5;124mEmpty graph!\u001b[39m\u001b[38;5;124m\"\u001b[39m)\n\u001b[1;32m    256\u001b[0m nx\u001b[38;5;241m.\u001b[39mset_node_attributes(G, \u001b[38;5;241m0\u001b[39m, name\u001b[38;5;241m=\u001b[39m\u001b[38;5;124m'\u001b[39m\u001b[38;5;124mlabel\u001b[39m\u001b[38;5;124m'\u001b[39m)\n\u001b[1;32m    258\u001b[0m \u001b[38;5;66;03m# add node features\u001b[39;00m\n",
      "\u001b[0;31mException\u001b[0m: Empty graph!"
     ]
    }
   ],
   "source": [
    "trainers[2].evaluate(threshold=0.1, show=True)"
   ]
  },
  {
   "cell_type": "code",
   "execution_count": 53,
   "metadata": {},
   "outputs": [
    {
     "name": "stdout",
     "output_type": "stream",
     "text": [
      "n=4 m=2\n",
      "logits=[-0.7293493747711182, -3.6412482261657715, -2.6556193828582764, -0.02133053168654442, -5.200273513793945, -3.2543675899505615, -3.115687608718872]\n",
      "probs=[0.2929554581642151, 0.015928687527775764, 0.04268086329102516, 0.5946894884109497, 0.0033504553139209747, 0.023453092202544212, 0.026941891759634018]\n"
     ]
    },
    {
     "data": {
      "image/png": "[encoded data removed]",
      "text/plain": [
       "<Figure size 640x480 with 1 Axes>"
      ]
     },
     "metadata": {},
     "output_type": "display_data"
    },
    {
     "data": {
      "text/plain": [
       "(<networkx.classes.graph.Graph at 0x7f0a2dae4460>,\n",
       " {'n': 4,\n",
       "  'm': 2,\n",
       "  'logits': [-0.7293493747711182,\n",
       "   -3.6412482261657715,\n",
       "   -2.6556193828582764,\n",
       "   -0.02133053168654442,\n",
       "   -5.200273513793945,\n",
       "   -3.2543675899505615,\n",
       "   -3.115687608718872],\n",
       "  'probs': [0.2929554581642151,\n",
       "   0.015928687527775764,\n",
       "   0.04268086329102516,\n",
       "   0.5946894884109497,\n",
       "   0.0033504553139209747,\n",
       "   0.023453092202544212,\n",
       "   0.026941891759634018]})"
      ]
     },
     "execution_count": 53,
     "metadata": {},
     "output_type": "execute_result"
    }
   ],
   "source": [
    "trainers[3].evaluate(threshold=0.6, show=True)"
   ]
  },
  {
   "cell_type": "code",
   "execution_count": 55,
   "metadata": {},
   "outputs": [
    {
     "name": "stdout",
     "output_type": "stream",
     "text": [
      "n=2 m=1\n",
      "logits=[-0.9416800737380981, -3.4736475944519043, -3.1785430908203125, -4.027380466461182, -7.7339253425598145, -8.29883098602295, -8.122035026550293]\n",
      "probs=[0.8100345134735107, 0.06439971178770065, 0.08650599420070648, 0.037016965448856354, 0.0009092196705751121, 0.0005168129573576152, 0.0006167581886984408]\n"
     ]
    },
    {
     "data": {
      "image/png": "[encoded data removed]",
      "text/plain": [
       "<Figure size 640x480 with 1 Axes>"
      ]
     },
     "metadata": {},
     "output_type": "display_data"
    },
    {
     "data": {
      "text/plain": [
       "(<networkx.classes.graph.Graph at 0x7f0a2da073a0>,\n",
       " {'n': 2,\n",
       "  'm': 1,\n",
       "  'logits': [-0.9416800737380981,\n",
       "   -3.4736475944519043,\n",
       "   -3.1785430908203125,\n",
       "   -4.027380466461182,\n",
       "   -7.7339253425598145,\n",
       "   -8.29883098602295,\n",
       "   -8.122035026550293],\n",
       "  'probs': [0.8100345134735107,\n",
       "   0.06439971178770065,\n",
       "   0.08650599420070648,\n",
       "   0.037016965448856354,\n",
       "   0.0009092196705751121,\n",
       "   0.0005168129573576152,\n",
       "   0.0006167581886984408]})"
      ]
     },
     "execution_count": 55,
     "metadata": {},
     "output_type": "execute_result"
    }
   ],
   "source": [
    "trainers[4].evaluate(threshold=0.6, show=True)"
   ]
  },
  {
   "cell_type": "code",
   "execution_count": 57,
   "metadata": {},
   "outputs": [
    {
     "name": "stdout",
     "output_type": "stream",
     "text": [
      "n=4 m=2\n",
      "logits=[-0.7293493747711182, -3.6412482261657715, -2.6556193828582764, -0.02133053168654442, -5.200273513793945, -3.2543675899505615, -3.115687608718872]\n",
      "probs=[0.2929554581642151, 0.015928687527775764, 0.04268086329102516, 0.5946894884109497, 0.0033504553139209747, 0.023453092202544212, 0.026941891759634018]\n"
     ]
    },
    {
     "data": {
      "image/png": "[encoded data removed]",
      "text/plain": [
       "<Figure size 640x480 with 1 Axes>"
      ]
     },
     "metadata": {},
     "output_type": "display_data"
    },
    {
     "data": {
      "text/plain": [
       "(<networkx.classes.graph.Graph at 0x7f0a3548a200>,\n",
       " {'n': 4,\n",
       "  'm': 2,\n",
       "  'logits': [-0.7293493747711182,\n",
       "   -3.6412482261657715,\n",
       "   -2.6556193828582764,\n",
       "   -0.02133053168654442,\n",
       "   -5.200273513793945,\n",
       "   -3.2543675899505615,\n",
       "   -3.115687608718872],\n",
       "  'probs': [0.2929554581642151,\n",
       "   0.015928687527775764,\n",
       "   0.04268086329102516,\n",
       "   0.5946894884109497,\n",
       "   0.0033504553139209747,\n",
       "   0.023453092202544212,\n",
       "   0.026941891759634018]})"
      ]
     },
     "execution_count": 57,
     "metadata": {},
     "output_type": "execute_result"
    }
   ],
   "source": [
    "trainers[5].evaluate(threshold=0.6, show=True)"
   ]
  },
  {
   "cell_type": "code",
   "execution_count": 64,
   "metadata": {},
   "outputs": [
    {
     "name": "stdout",
     "output_type": "stream",
     "text": [
      "n=2 m=1\n",
      "logits=[-0.9416800737380981, -3.4736475944519043, -3.1785430908203125, -4.027380466461182, -7.7339253425598145, -8.29883098602295, -8.122035026550293]\n",
      "probs=[0.8100345134735107, 0.06439971178770065, 0.08650599420070648, 0.037016965448856354, 0.0009092196705751121, 0.0005168129573576152, 0.0006167581886984408]\n"
     ]
    },
    {
     "data": {
      "image/png": "[encoded data removed]",
      "text/plain": [
       "<Figure size 640x480 with 1 Axes>"
      ]
     },
     "metadata": {},
     "output_type": "display_data"
    },
    {
     "data": {
      "text/plain": [
       "(<networkx.classes.graph.Graph at 0x7f0a38f28670>,\n",
       " {'n': 2,\n",
       "  'm': 1,\n",
       "  'logits': [-0.9416800737380981,\n",
       "   -3.4736475944519043,\n",
       "   -3.1785430908203125,\n",
       "   -4.027380466461182,\n",
       "   -7.7339253425598145,\n",
       "   -8.29883098602295,\n",
       "   -8.122035026550293],\n",
       "  'probs': [0.8100345134735107,\n",
       "   0.06439971178770065,\n",
       "   0.08650599420070648,\n",
       "   0.037016965448856354,\n",
       "   0.0009092196705751121,\n",
       "   0.0005168129573576152,\n",
       "   0.0006167581886984408]})"
      ]
     },
     "execution_count": 64,
     "metadata": {},
     "output_type": "execute_result"
    }
   ],
   "source": [
    "trainers[6].evaluate(threshold=0.6, show=True)"
   ]
  }
 ],
 "metadata": {
  "kernelspec": {
   "display_name": "venv_new",
   "language": "python",
   "name": "python3"
  },
  "language_info": {
   "codemirror_mode": {
    "name": "ipython",
    "version": 3
   },
   "file_extension": ".py",
   "mimetype": "text/x-python",
   "name": "python",
   "nbconvert_exporter": "python",
   "pygments_lexer": "ipython3",
   "version": "3.10.12"
  }
 },
 "nbformat": 4,
 "nbformat_minor": 2
}
