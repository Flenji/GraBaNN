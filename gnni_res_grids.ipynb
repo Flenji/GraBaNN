{
 "cells": [
  {
   "cell_type": "code",
   "execution_count": 1,
   "metadata": {},
   "outputs": [],
   "source": [
    "from explainers.GNNBoundary.gnn_boundary.models.gcn_classifier import GCNClassifier as GCNClassifier\n",
    "import torch as torch"
   ]
  },
  {
   "cell_type": "code",
   "execution_count": 2,
   "metadata": {},
   "outputs": [],
   "source": [
    "import numpy as np"
   ]
  },
  {
   "cell_type": "code",
   "execution_count": 3,
   "metadata": {},
   "outputs": [
    {
     "data": {
      "text/plain": [
       "<All keys matched successfully>"
      ]
     },
     "execution_count": 3,
     "metadata": {},
     "output_type": "execute_result"
    }
   ],
   "source": [
    "\n",
    "model = GCNClassifier(num_layers=3, num_classes=2, node_features=3, hidden_channels=16)\n",
    "model.load_state_dict(torch.load('model/report_models/grids.pt'))"
   ]
  },
  {
   "cell_type": "code",
   "execution_count": 4,
   "metadata": {},
   "outputs": [
    {
     "name": "stderr",
     "output_type": "stream",
     "text": [
      "/home/sobibence/AAU/2_semester/project/GraBaNN/libraries/dataLoaderWrapper.py:29: UserWarning: To copy construct from a tensor, it is recommended to use sourceTensor.clone().detach() or sourceTensor.clone().detach().requires_grad_(True), rather than torch.tensor(sourceTensor).\n",
      "  obj.y = torch.tensor(obj.y, dtype=torch.long)\n"
     ]
    }
   ],
   "source": [
    "from graph_generation.GridGraphs import GridGraphs\n",
    "import libraries.dataLoaderWrapper as DLW\n",
    "dataset = DLW.GNNInterpreterLoaderWrapper(GridGraphs(5000).getDataset())\n",
    "mean_embeds = dataset.mean_embeddings(model)\n"
   ]
  },
  {
   "cell_type": "code",
   "execution_count": 5,
   "metadata": {},
   "outputs": [
    {
     "data": {
      "text/plain": [
       "[array([   1,    3,    5, ..., 4995, 4997, 4999]),\n",
       " array([   0,    2,    4, ..., 4994, 4996, 4998])]"
      ]
     },
     "execution_count": 5,
     "metadata": {},
     "output_type": "execute_result"
    }
   ],
   "source": [
    "y = [data.y for data in dataset]\n",
    "classes = np.unique(y)\n",
    "class_indexes = []\n",
    "for c in classes:\n",
    "    class_indexes.append(np.where(y == c)[0])\n",
    "class_indexes"
   ]
  },
  {
   "cell_type": "code",
   "execution_count": 6,
   "metadata": {},
   "outputs": [],
   "source": [
    "\n",
    "trainers = {}"
   ]
  },
  {
   "cell_type": "code",
   "execution_count": 10,
   "metadata": {},
   "outputs": [
    {
     "data": {
      "application/vnd.jupyter.widget-view+json": {
       "model_id": "0df7d67023584509a77f6329e1d206de",
       "version_major": 2,
       "version_minor": 0
      },
      "text/plain": [
       "  0%|          | 0/2000 [00:00<?, ?it/s]"
      ]
     },
     "metadata": {},
     "output_type": "display_data"
    },
    {
     "data": {
      "text/plain": [
       "True"
      ]
     },
     "execution_count": 10,
     "metadata": {},
     "output_type": "execute_result"
    }
   ],
   "source": [
    "from explainers.gnninterpreter import *\n",
    "c = 0\n",
    "\n",
    "trainers[c] = Trainer(\n",
    "            sampler=(s := GraphSampler(\n",
    "                max_nodes=5,\n",
    "                num_node_cls=3,\n",
    "                temperature=0.15,\n",
    "                learn_node_feat=True\n",
    "            )),\n",
    "            discriminator=model,\n",
    "            criterion=WeightedCriterion([\n",
    "                dict(key=\"logits\", criterion=ClassScoreCriterion(class_idx=c, mode='maximize'), weight=5),\n",
    "                #dict(key=\"logits\", criterion=ClassScoreCriterion(class_idx=, mode='minimize'), weight=5),\n",
    "                dict(key=\"embeds\", criterion=EmbeddingCriterion(target_embedding=mean_embeds[c]), weight=5),\n",
    "                dict(key=\"logits\", criterion=MeanPenalty(), weight=0),\n",
    "                dict(key=\"omega\", criterion=NormPenalty(order=1), weight=1),\n",
    "                dict(key=\"omega\", criterion=NormPenalty(order=2), weight=1),\n",
    "                dict(key=\"xi\", criterion=NormPenalty(order=1), weight=0),\n",
    "                dict(key=\"xi\", criterion=NormPenalty(order=2), weight=0),\n",
    "                # dict(key=\"eta\", criterion=NormPenalty(order=1), weight=0),\n",
    "                # dict(key=\"eta\", criterion=NormPenalty(order=2), weight=0),\n",
    "                dict(key=\"theta_pairs\", criterion=KLDivergencePenalty(binary=True), weight=1),\n",
    "            ]),\n",
    "            optimizer=(o := torch.optim.SGD(s.parameters(), lr=1)),\n",
    "            scheduler=torch.optim.lr_scheduler.ExponentialLR(o, gamma=1),\n",
    "            dataset=dataset,\n",
    "            budget_penalty=BudgetPenalty(budget=10, order=2, beta=1),\n",
    "            target_probs={c: (0.9, 1)},\n",
    "            k_samples=16\n",
    "        )\n",
    "trainers[c].train(2000)"
   ]
  },
  {
   "cell_type": "code",
   "execution_count": null,
   "metadata": {},
   "outputs": [],
   "source": []
  },
  {
   "cell_type": "code",
   "execution_count": 8,
   "metadata": {},
   "outputs": [
    {
     "name": "stdout",
     "output_type": "stream",
     "text": [
      "n=4 m=3\n",
      "logits=[-2.412457227706909, 3.876957416534424]\n",
      "probs=[0.0018524086335673928, 0.9981476068496704]\n"
     ]
    },
    {
     "data": {
      "image/png": "[encoded data removed]",
      "text/plain": [
       "<Figure size 640x480 with 1 Axes>"
      ]
     },
     "metadata": {},
     "output_type": "display_data"
    },
    {
     "data": {
      "text/plain": [
       "(<networkx.classes.graph.Graph at 0x7f77401a3a00>,\n",
       " {'n': 4,\n",
       "  'm': 3,\n",
       "  'logits': [-2.412457227706909, 3.876957416534424],\n",
       "  'probs': [0.0018524086335673928, 0.9981476068496704]})"
      ]
     },
     "execution_count": 8,
     "metadata": {},
     "output_type": "execute_result"
    }
   ],
   "source": [
    "trainers[1].evaluate(threshold=0.5, show=True)"
   ]
  },
  {
   "cell_type": "code",
   "execution_count": 11,
   "metadata": {},
   "outputs": [
    {
     "name": "stdout",
     "output_type": "stream",
     "text": [
      "n=5 m=5\n",
      "logits=[3.7294678688049316, -3.335620164871216]\n",
      "probs=[0.9991463422775269, 0.0008536900859326124]\n"
     ]
    },
    {
     "data": {
      "image/png": "[encoded data removed]",
      "text/plain": [
       "<Figure size 640x480 with 1 Axes>"
      ]
     },
     "metadata": {},
     "output_type": "display_data"
    },
    {
     "data": {
      "text/plain": [
       "(<networkx.classes.graph.Graph at 0x7f7741be4160>,\n",
       " {'n': 5,\n",
       "  'm': 5,\n",
       "  'logits': [3.7294678688049316, -3.335620164871216],\n",
       "  'probs': [0.9991463422775269, 0.0008536900859326124]})"
      ]
     },
     "execution_count": 11,
     "metadata": {},
     "output_type": "execute_result"
    }
   ],
   "source": [
    "trainers[0].evaluate(threshold=0.5, show=True)"
   ]
  },
  {
   "cell_type": "code",
   "execution_count": null,
   "metadata": {},
   "outputs": [],
   "source": []
  }
 ],
 "metadata": {
  "kernelspec": {
   "display_name": "venv_new",
   "language": "python",
   "name": "python3"
  },
  "language_info": {
   "codemirror_mode": {
    "name": "ipython",
    "version": 3
   },
   "file_extension": ".py",
   "mimetype": "text/x-python",
   "name": "python",
   "nbconvert_exporter": "python",
   "pygments_lexer": "ipython3",
   "version": "3.10.12"
  }
 },
 "nbformat": 4,
 "nbformat_minor": 2
}
