{
 "cells": [
  {
   "cell_type": "code",
   "execution_count": 14,
   "id": "2ce5d3a4-9e2d-4ea4-8e66-e607da82c25e",
   "metadata": {},
   "outputs": [],
   "source": [
    "import importlib\n",
    "import sys\n",
    "sys.path.append(\"../\")\n",
    "sys.path.append('../../../')\n",
    "import explainers.GNNBoundary.gnn_boundary.models as models\n",
    "from torch_geometric.data import Data\n",
    "from utility_functions import *\n",
    "import torch\n",
    "#sys.path.append(\"./explainers/XGNN\")\n",
    "#sys.path.append(\"./graph_generation\")\n",
    "#import HouseSet as HouseSet\n",
    "from XGNNInterface  import XGNNInterface\n",
    "import matplotlib.pyplot as plt"
   ]
  },
  {
   "cell_type": "code",
   "execution_count": 2,
   "id": "a78801f8-1bd8-4038-906f-1094854049fa",
   "metadata": {},
   "outputs": [],
   "source": [
    "model = models.GCNClassifier(hidden_channels=16,node_features=3,num_classes=2,num_layers=3)"
   ]
  },
  {
   "cell_type": "code",
   "execution_count": 3,
   "id": "96b7e7f9-5301-4ee4-b320-d6150c6e590a",
   "metadata": {},
   "outputs": [
    {
     "data": {
      "text/plain": [
       "<All keys matched successfully>"
      ]
     },
     "execution_count": 3,
     "metadata": {},
     "output_type": "execute_result"
    }
   ],
   "source": [
    "import os\n",
    "cwd = os.getcwd()\n",
    "file_path = os.path.abspath(os.path.join(cwd, '../../../model/report_models/grids.pt'))\n",
    "model.load_state_dict(torch.load(file_path))"
   ]
  },
  {
   "cell_type": "code",
   "execution_count": 4,
   "id": "e15cad8a-3ce9-4b4a-909d-1267a022870f",
   "metadata": {},
   "outputs": [],
   "source": [
    "mw = lambda x,e : model_wrapper(x,e,model=model)\n",
    "encoding_dict = one_hot_encoding(3)\n",
    "cgd = lambda nx_graph: convertNxToData(nx_graph, encoding_dict)"
   ]
  },
  {
   "cell_type": "code",
   "execution_count": 5,
   "id": "83d182c6-5817-40e6-a854-514155add7d4",
   "metadata": {},
   "outputs": [
    {
     "name": "stdout",
     "output_type": "stream",
     "text": [
      "Start training pipeline\n",
      "Initializing Policy Nets\n",
      "Initializing Policy Nets\n",
      "loading the model\n",
      "Start training pipeline\n",
      "Initializing Policy Nets\n",
      "Initializing Policy Nets\n",
      "loading the model\n",
      "Start training pipeline\n",
      "Initializing Policy Nets\n",
      "Initializing Policy Nets\n",
      "loading the model\n",
      "Start training pipeline\n",
      "Initializing Policy Nets\n",
      "Initializing Policy Nets\n",
      "loading the model\n",
      "Start training pipeline\n",
      "Initializing Policy Nets\n",
      "Initializing Policy Nets\n",
      "loading the model\n",
      "Start training pipeline\n",
      "Initializing Policy Nets\n",
      "Initializing Policy Nets\n",
      "loading the model\n"
     ]
    }
   ],
   "source": [
    "res = {0:{}, 1:{}}\n",
    "for cl in [0,1]:\n",
    "    for starting_node in [0,1,2]:\n",
    "        explainer = XGNNInterface(9, 30, cl, 1000, 3, model = mw,\\\n",
    "                                      convertNxToData = cgd, starting_node=starting_node,\\\n",
    "                                          checkpoint=False)\n",
    "        graph,prob = explainer.train()\n",
    "        res[cl][starting_node] = (graph,prob)"
   ]
  },
  {
   "cell_type": "code",
   "execution_count": 10,
   "id": "26b0d98c-55c0-4dce-a125-41aaea5156c3",
   "metadata": {},
   "outputs": [
    {
     "data": {
      "text/plain": [
       "{0: {0: (Data(x=[9, 3], edge_index=[2, 23]), 1.0),\n",
       "  1: (Data(x=[9, 3], edge_index=[2, 14]), 0.9999985694885254),\n",
       "  2: (Data(x=[9, 3], edge_index=[2, 17]), 1.0)},\n",
       " 1: {0: (Data(x=[1, 3], edge_index=[2, 0]), 0.0017366954125463963),\n",
       "  1: (Data(x=[1, 3], edge_index=[2, 0]), 0.0058349608443677425),\n",
       "  2: (Data(x=[1, 3], edge_index=[2, 0]), 0.005451753735542297)}}"
      ]
     },
     "execution_count": 10,
     "metadata": {},
     "output_type": "execute_result"
    }
   ],
   "source": [
    "res"
   ]
  },
  {
   "cell_type": "code",
   "execution_count": 11,
   "id": "ae5435ef-6e55-439e-8ed2-68badba0d672",
   "metadata": {},
   "outputs": [
    {
     "data": {
      "image/png": "[encoded data removed]",
      "text/plain": [
       "<Figure size 640x480 with 1 Axes>"
      ]
     },
     "metadata": {},
     "output_type": "display_data"
    }
   ],
   "source": [
    "printGraph(res[1][0][0])#,\"./images/grid_cl0_start0\")"
   ]
  },
  {
   "cell_type": "code",
   "execution_count": 13,
   "id": "d6bc90af-c602-4883-a977-545d63f0944c",
   "metadata": {},
   "outputs": [
    {
     "data": {
      "text/plain": [
       "<Figure size 640x480 with 0 Axes>"
      ]
     },
     "metadata": {},
     "output_type": "display_data"
    }
   ],
   "source": [
    "for cl in [0,1]:\n",
    "    for starting_node in [0,1,2]:\n",
    "        printGraph(res[cl][starting_node][0],f\"./images/grid_cl{cl}_start{starting_node}\")\n",
    "        plt.clf()"
   ]
  },
  {
   "cell_type": "markdown",
   "id": "91640093-4de2-4313-9d57-cbe5632d9d3a",
   "metadata": {},
   "source": [
    "## Hyperparameter-Tuning"
   ]
  },
  {
   "cell_type": "code",
   "execution_count": null,
   "id": "d0c200e0-5df5-4559-998c-47e1dcefb500",
   "metadata": {},
   "outputs": [],
   "source": [
    "reward_stepwise_li = [0.1,0.2,0.3,0.4,0.5]\n",
    "roll_out_alpha_li = [1,2,4]\n",
    "\n",
    "res = {}\n",
    "for reward_stepwise in reward_stepwise_li:\n",
    "    for roll_out_alpha in roll_out_alpha_li:\n",
    "        res[reward_stepwise,roll_out_alpha] = {}\n",
    "        for starting_node in [0,1,2]:\n",
    "            explainer = XGNNInterface(9, 30, ???, 1000, 3, model = mw,\\\n",
    "                                      convertNxToData = cgd, starting_node=starting_node,\\\n",
    "                                          checkpoint=False)\n",
    "            graph,prob = explainer.train()\n",
    "            res["
   ]
  }
 ],
 "metadata": {
  "kernelspec": {
   "display_name": "Python 3 (ipykernel)",
   "language": "python",
   "name": "python3"
  },
  "language_info": {
   "codemirror_mode": {
    "name": "ipython",
    "version": 3
   },
   "file_extension": ".py",
   "mimetype": "text/x-python",
   "name": "python",
   "nbconvert_exporter": "python",
   "pygments_lexer": "ipython3",
   "version": "3.10.14"
  }
 },
 "nbformat": 4,
 "nbformat_minor": 5
}
