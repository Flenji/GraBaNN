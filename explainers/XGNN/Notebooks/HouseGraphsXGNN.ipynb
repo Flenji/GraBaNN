{
 "cells": [
  {
   "cell_type": "code",
   "execution_count": 1,
   "id": "85e325f5-bb19-47dc-a472-bc0c79462b96",
   "metadata": {},
   "outputs": [
    {
     "name": "stderr",
     "output_type": "stream",
     "text": [
      "C:\\Users\\hanne\\anaconda3\\envs\\gnnboundary\\lib\\site-packages\\tqdm\\auto.py:21: TqdmWarning: IProgress not found. Please update jupyter and ipywidgets. See https://ipywidgets.readthedocs.io/en/stable/user_install.html\n",
      "  from .autonotebook import tqdm as notebook_tqdm\n"
     ]
    }
   ],
   "source": [
    "import importlib\n",
    "import sys\n",
    "sys.path.append(\"../\")\n",
    "sys.path.append('../../../')\n",
    "import explainers.GNNBoundary.gnn_boundary.models as models\n",
    "from torch_geometric.data import Data\n",
    "from utility_functions import *\n",
    "import torch\n",
    "#sys.path.append(\"./explainers/XGNN\")\n",
    "#sys.path.append(\"./graph_generation\")\n",
    "#import HouseSet as HouseSet\n",
    "from XGNNInterface  import XGNNInterface\n",
    "import matplotlib.pyplot as plt"
   ]
  },
  {
   "cell_type": "code",
   "execution_count": 2,
   "id": "091abf5e-694e-4371-9ceb-555975b09210",
   "metadata": {},
   "outputs": [],
   "source": [
    "model = models.GCNClassifier(hidden_channels=32,node_features=3,num_classes=2,num_layers=3)"
   ]
  },
  {
   "cell_type": "code",
   "execution_count": 3,
   "id": "01c78f5f-103d-4b55-9d0c-06882afc2d0d",
   "metadata": {},
   "outputs": [
    {
     "data": {
      "text/plain": [
       "<All keys matched successfully>"
      ]
     },
     "execution_count": 3,
     "metadata": {},
     "output_type": "execute_result"
    }
   ],
   "source": [
    "import os\n",
    "cwd = os.getcwd()\n",
    "file_path = os.path.abspath(os.path.join(cwd, '../../../model/report_models/house.pt'))\n",
    "model.load_state_dict(torch.load(file_path))"
   ]
  },
  {
   "cell_type": "code",
   "execution_count": 4,
   "id": "0ae79876-22c8-452c-b75f-e1395c80087f",
   "metadata": {},
   "outputs": [],
   "source": [
    "mw = lambda x,e : model_wrapper(x,e,model=model)\n",
    "encoding_dict = one_hot_encoding(3)\n",
    "cgd = lambda nx_graph: convertNxToData(nx_graph, encoding_dict)"
   ]
  },
  {
   "cell_type": "code",
   "execution_count": 5,
   "id": "370eb17a-6c6d-459f-ac45-e76193f847cb",
   "metadata": {},
   "outputs": [
    {
     "name": "stdout",
     "output_type": "stream",
     "text": [
      "Start training pipeline\n",
      "Initializing Policy Nets\n",
      "Initializing Policy Nets\n",
      "loading the model\n",
      "Start training pipeline\n",
      "Initializing Policy Nets\n",
      "Initializing Policy Nets\n",
      "loading the model\n",
      "Start training pipeline\n",
      "Initializing Policy Nets\n",
      "Initializing Policy Nets\n",
      "loading the model\n",
      "Start training pipeline\n",
      "Initializing Policy Nets\n",
      "Initializing Policy Nets\n",
      "loading the model\n",
      "Start training pipeline\n",
      "Initializing Policy Nets\n",
      "Initializing Policy Nets\n",
      "loading the model\n",
      "Start training pipeline\n",
      "Initializing Policy Nets\n",
      "Initializing Policy Nets\n",
      "loading the model\n"
     ]
    }
   ],
   "source": [
    "res = {0:{}, 1:{}}\n",
    "for cl in [0,1]:\n",
    "    for starting_node in [0,1,2]:\n",
    "        explainer = XGNNInterface(5, 75, cl, 100, 3, model = mw,\\\n",
    "                                      convertNxToData = cgd, starting_node=starting_node,\\\n",
    "                                          checkpoint=False, reward_stepwise = 0.35)\n",
    "        graph,prob = explainer.train()\n",
    "        res[cl][starting_node] = (graph,prob)"
   ]
  },
  {
   "cell_type": "code",
   "execution_count": 6,
   "id": "76572cf5-7b44-4dda-8d0b-3c669bf9f8c2",
   "metadata": {},
   "outputs": [
    {
     "data": {
      "text/plain": [
       "{0: {0: (Data(x=[5, 3], edge_index=[2, 10]), 1.0),\n",
       "  1: (Data(x=[5, 3], edge_index=[2, 10]), 1.0),\n",
       "  2: (Data(x=[5, 3], edge_index=[2, 10]), 1.0)},\n",
       " 1: {0: (Data(x=[1, 3], edge_index=[2, 0]), 8.784143056134869e-20),\n",
       "  1: (Data(x=[1, 3], edge_index=[2, 0]), 1.3156440785647302e-15),\n",
       "  2: (Data(x=[1, 3], edge_index=[2, 0]), 4.473429005696916e-12)}}"
      ]
     },
     "execution_count": 6,
     "metadata": {},
     "output_type": "execute_result"
    }
   ],
   "source": [
    "res"
   ]
  },
  {
   "cell_type": "code",
   "execution_count": 7,
   "id": "e912e7b5-9a2e-43e0-9f96-dae1587c77bd",
   "metadata": {},
   "outputs": [
    {
     "data": {
      "text/plain": [
       "<Figure size 640x480 with 0 Axes>"
      ]
     },
     "metadata": {},
     "output_type": "display_data"
    }
   ],
   "source": [
    "for cl in [0,1]:\n",
    "    for starting_node in [0,1,2]:\n",
    "        printGraph(res[cl][starting_node][0],f\"./images/house_cl{cl}_start{starting_node}\")\n",
    "        plt.clf()"
   ]
  }
 ],
 "metadata": {
  "kernelspec": {
   "display_name": "Python 3 (ipykernel)",
   "language": "python",
   "name": "python3"
  },
  "language_info": {
   "codemirror_mode": {
    "name": "ipython",
    "version": 3
   },
   "file_extension": ".py",
   "mimetype": "text/x-python",
   "name": "python",
   "nbconvert_exporter": "python",
   "pygments_lexer": "ipython3",
   "version": "3.10.14"
  }
 },
 "nbformat": 4,
 "nbformat_minor": 5
}
