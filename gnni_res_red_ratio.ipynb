{
 "cells": [
  {
   "cell_type": "code",
   "execution_count": 1,
   "metadata": {},
   "outputs": [],
   "source": [
    "from explainers.GNNBoundary.gnn_boundary.models.linear_gcn_classifier import LinearGCNClassifier as LinearGCNClassifier\n",
    "import torch as torch"
   ]
  },
  {
   "cell_type": "code",
   "execution_count": 2,
   "metadata": {},
   "outputs": [],
   "source": [
    "import numpy as np"
   ]
  },
  {
   "cell_type": "code",
   "execution_count": 5,
   "metadata": {},
   "outputs": [
    {
     "data": {
      "text/plain": [
       "<All keys matched successfully>"
      ]
     },
     "execution_count": 5,
     "metadata": {},
     "output_type": "execute_result"
    }
   ],
   "source": [
    "\n",
    "model = LinearGCNClassifier( num_classes=2, node_features=3, hidden_channels=16)\n",
    "model.load_state_dict(torch.load('model/report_models/red_ratio.pt'))"
   ]
  },
  {
   "cell_type": "code",
   "execution_count": 6,
   "metadata": {},
   "outputs": [],
   "source": [
    "from graph_generation.RedRatioGraphs import RedRatioGraphs\n",
    "import libraries.dataLoaderWrapper as DLW\n",
    "dataset = DLW.GNNInterpreterLoaderWrapper(RedRatioGraphs(2000).getDataset())\n",
    "mean_embeds = dataset.mean_embeddings(model)\n"
   ]
  },
  {
   "cell_type": "code",
   "execution_count": 7,
   "metadata": {},
   "outputs": [
    {
     "data": {
      "text/plain": [
       "[array([   0,    1,    2, ..., 1997, 1998, 1999]),\n",
       " array([   5,    7,   10,   17,   18,   20,   25,   31,   34,   40,   46,\n",
       "          50,   51,   60,   65,   68,   69,   77,   78,   80,   83,   85,\n",
       "          86,   88,   89,   99,  104,  106,  109,  110,  126,  129,  131,\n",
       "         145,  147,  149,  159,  167,  169,  177,  182,  183,  185,  187,\n",
       "         190,  198,  199,  203,  206,  208,  210,  213,  216,  220,  221,\n",
       "         225,  232,  233,  234,  242,  246,  254,  273,  274,  275,  277,\n",
       "         281,  283,  286,  287,  290,  292,  295,  297,  299,  301,  302,\n",
       "         312,  314,  321,  327,  328,  331,  332,  339,  352,  353,  355,\n",
       "         358,  360,  365,  368,  372,  375,  376,  382,  383,  385,  392,\n",
       "         394,  397,  398,  399,  401,  407,  410,  411,  412,  415,  416,\n",
       "         418,  419,  423,  425,  435,  438,  448,  450,  462,  463,  466,\n",
       "         467,  471,  479,  481,  490,  500,  502,  504,  509,  512,  515,\n",
       "         516,  518,  524,  525,  534,  537,  538,  541,  544,  545,  546,\n",
       "         548,  549,  550,  551,  552,  554,  559,  560,  564,  567,  568,\n",
       "         569,  570,  572,  574,  581,  582,  586,  589,  608,  609,  617,\n",
       "         629,  633,  635,  640,  642,  645,  651,  652,  656,  670,  671,\n",
       "         674,  682,  684,  687,  690,  692,  693,  702,  711,  713,  716,\n",
       "         719,  721,  723,  725,  729,  730,  731,  732,  734,  735,  736,\n",
       "         743,  748,  749,  757,  760,  761,  763,  768,  769,  771,  772,\n",
       "         775,  777,  780,  781,  786,  789,  791,  793,  794,  797,  798,\n",
       "         799,  808,  809,  813,  819,  834,  837,  840,  841,  843,  846,\n",
       "         850,  854,  856,  860,  863,  864,  867,  868,  869,  873,  883,\n",
       "         884,  886,  887,  900,  902,  903,  905,  907,  909,  914,  915,\n",
       "         921,  923,  925,  932,  933,  943,  946,  953,  955,  956,  959,\n",
       "         961,  967,  972,  974,  979,  985,  994,  998, 1000, 1001, 1004,\n",
       "        1005, 1008, 1009, 1015, 1018, 1022, 1024, 1027, 1032, 1045, 1046,\n",
       "        1047, 1050, 1052, 1056, 1063, 1064, 1065, 1075, 1078, 1079, 1087,\n",
       "        1090, 1095, 1099, 1105, 1109, 1110, 1112, 1115, 1120, 1122, 1123,\n",
       "        1124, 1125, 1127, 1134, 1135, 1137, 1140, 1141, 1142, 1149, 1150,\n",
       "        1154, 1156, 1164, 1168, 1169, 1170, 1171, 1173, 1196, 1200, 1203,\n",
       "        1214, 1215, 1216, 1217, 1226, 1227, 1234, 1236, 1238, 1239, 1246,\n",
       "        1247, 1255, 1258, 1260, 1263, 1265, 1268, 1270, 1271, 1272, 1273,\n",
       "        1280, 1284, 1285, 1292, 1295, 1296, 1297, 1299, 1308, 1310, 1320,\n",
       "        1323, 1324, 1329, 1331, 1335, 1341, 1343, 1344, 1345, 1353, 1354,\n",
       "        1356, 1357, 1361, 1362, 1365, 1366, 1367, 1368, 1369, 1370, 1372,\n",
       "        1373, 1383, 1384, 1386, 1391, 1392, 1398, 1404, 1408, 1412, 1413,\n",
       "        1414, 1417, 1422, 1430, 1433, 1434, 1435, 1439, 1440, 1442, 1447,\n",
       "        1451, 1455, 1456, 1458, 1462, 1464, 1466, 1467, 1470, 1473, 1477,\n",
       "        1481, 1486, 1489, 1512, 1517, 1518, 1519, 1521, 1524, 1530, 1537,\n",
       "        1538, 1545, 1546, 1549, 1555, 1566, 1567, 1571, 1573, 1574, 1575,\n",
       "        1576, 1577, 1579, 1580, 1581, 1585, 1589, 1590, 1595, 1596, 1600,\n",
       "        1606, 1609, 1610, 1612, 1617, 1619, 1620, 1624, 1628, 1636, 1642,\n",
       "        1647, 1648, 1649, 1650, 1651, 1652, 1656, 1662, 1665, 1666, 1667,\n",
       "        1671, 1673, 1675, 1679, 1682, 1683, 1685, 1686, 1691, 1692, 1696,\n",
       "        1697, 1701, 1706, 1716, 1721, 1722, 1723, 1729, 1731, 1733, 1739,\n",
       "        1740, 1742, 1749, 1750, 1751, 1754, 1756, 1762, 1770, 1772, 1773,\n",
       "        1775, 1777, 1782, 1785, 1787, 1792, 1797, 1798, 1799, 1802, 1804,\n",
       "        1805, 1807, 1811, 1812, 1816, 1817, 1818, 1823, 1825, 1832, 1835,\n",
       "        1837, 1840, 1845, 1846, 1847, 1856, 1860, 1867, 1870, 1871, 1874,\n",
       "        1877, 1886, 1892, 1894, 1896, 1900, 1901, 1902, 1903, 1910, 1920,\n",
       "        1930, 1932, 1942, 1946, 1948, 1954, 1956, 1958, 1961, 1966, 1967,\n",
       "        1968, 1970, 1971, 1972, 1974, 1975, 1977, 1983, 1984, 1987, 1988])]"
      ]
     },
     "execution_count": 7,
     "metadata": {},
     "output_type": "execute_result"
    }
   ],
   "source": [
    "y = [data.y for data in dataset]\n",
    "classes = np.unique(y)\n",
    "class_indexes = []\n",
    "for c in classes:\n",
    "    class_indexes.append(np.where(y == c)[0])\n",
    "class_indexes"
   ]
  },
  {
   "cell_type": "code",
   "execution_count": 8,
   "metadata": {},
   "outputs": [],
   "source": [
    "\n",
    "trainers = {}"
   ]
  },
  {
   "cell_type": "code",
   "execution_count": 10,
   "metadata": {},
   "outputs": [
    {
     "data": {
      "application/vnd.jupyter.widget-view+json": {
       "model_id": "33be414f0f094282818ed5403af40f4e",
       "version_major": 2,
       "version_minor": 0
      },
      "text/plain": [
       "  0%|          | 0/2000 [00:00<?, ?it/s]"
      ]
     },
     "metadata": {},
     "output_type": "display_data"
    },
    {
     "data": {
      "text/plain": [
       "True"
      ]
     },
     "execution_count": 10,
     "metadata": {},
     "output_type": "execute_result"
    }
   ],
   "source": [
    "from explainers.gnninterpreter import *\n",
    "c = 1\n",
    "\n",
    "trainers[c] = Trainer(\n",
    "            sampler=(s := GraphSampler(\n",
    "                max_nodes=5,\n",
    "                num_node_cls=3,\n",
    "                temperature=0.15,\n",
    "                learn_node_feat=True\n",
    "            )),\n",
    "            discriminator=model,\n",
    "            criterion=WeightedCriterion([\n",
    "                dict(key=\"logits\", criterion=ClassScoreCriterion(class_idx=c, mode='maximize'), weight=5),\n",
    "                #dict(key=\"logits\", criterion=ClassScoreCriterion(class_idx=, mode='minimize'), weight=5),\n",
    "                dict(key=\"embeds\", criterion=EmbeddingCriterion(target_embedding=mean_embeds[c]), weight=5),\n",
    "                dict(key=\"logits\", criterion=MeanPenalty(), weight=0),\n",
    "                dict(key=\"omega\", criterion=NormPenalty(order=1), weight=1),\n",
    "                dict(key=\"omega\", criterion=NormPenalty(order=2), weight=1),\n",
    "                dict(key=\"xi\", criterion=NormPenalty(order=1), weight=0),\n",
    "                dict(key=\"xi\", criterion=NormPenalty(order=2), weight=0),\n",
    "                # dict(key=\"eta\", criterion=NormPenalty(order=1), weight=0),\n",
    "                # dict(key=\"eta\", criterion=NormPenalty(order=2), weight=0),\n",
    "                dict(key=\"theta_pairs\", criterion=KLDivergencePenalty(binary=True), weight=1),\n",
    "            ]),\n",
    "            optimizer=(o := torch.optim.SGD(s.parameters(), lr=1)),\n",
    "            scheduler=torch.optim.lr_scheduler.ExponentialLR(o, gamma=1),\n",
    "            dataset=dataset,\n",
    "            budget_penalty=BudgetPenalty(budget=10, order=2, beta=1),\n",
    "            target_probs={c: (0.9, 1)},\n",
    "            k_samples=16\n",
    "        )\n",
    "trainers[c].train(2000)"
   ]
  },
  {
   "cell_type": "code",
   "execution_count": null,
   "metadata": {},
   "outputs": [],
   "source": []
  },
  {
   "cell_type": "code",
   "execution_count": 11,
   "metadata": {},
   "outputs": [
    {
     "name": "stdout",
     "output_type": "stream",
     "text": [
      "n=2 m=1\n",
      "logits=[-29.7197208404541, 28.5679931640625]\n",
      "probs=[4.8525305633449074e-26, 1.0]\n"
     ]
    },
    {
     "data": {
      "image/png": "[encoded data removed]",
      "text/plain": [
       "<Figure size 640x480 with 1 Axes>"
      ]
     },
     "metadata": {},
     "output_type": "display_data"
    },
    {
     "data": {
      "text/plain": [
       "(<networkx.classes.graph.Graph at 0x7f328ad524a0>,\n",
       " {'n': 2,\n",
       "  'm': 1,\n",
       "  'logits': [-29.7197208404541, 28.5679931640625],\n",
       "  'probs': [4.8525305633449074e-26, 1.0]})"
      ]
     },
     "execution_count": 11,
     "metadata": {},
     "output_type": "execute_result"
    }
   ],
   "source": [
    "trainers[1].evaluate(threshold=0.5, show=True)"
   ]
  },
  {
   "cell_type": "code",
   "execution_count": 12,
   "metadata": {},
   "outputs": [
    {
     "name": "stdout",
     "output_type": "stream",
     "text": [
      "n=5 m=5\n",
      "logits=[6.7573370933532715, -5.082614898681641]\n",
      "probs=[0.999992847442627, 7.210591320472304e-06]\n"
     ]
    },
    {
     "data": {
      "image/png": "[encoded data removed]",
      "text/plain": [
       "<Figure size 640x480 with 1 Axes>"
      ]
     },
     "metadata": {},
     "output_type": "display_data"
    },
    {
     "data": {
      "text/plain": [
       "(<networkx.classes.graph.Graph at 0x7f327dea19f0>,\n",
       " {'n': 5,\n",
       "  'm': 5,\n",
       "  'logits': [6.7573370933532715, -5.082614898681641],\n",
       "  'probs': [0.999992847442627, 7.210591320472304e-06]})"
      ]
     },
     "execution_count": 12,
     "metadata": {},
     "output_type": "execute_result"
    }
   ],
   "source": [
    "trainers[0].evaluate(threshold=0.5, show=True)"
   ]
  },
  {
   "cell_type": "code",
   "execution_count": null,
   "metadata": {},
   "outputs": [],
   "source": []
  }
 ],
 "metadata": {
  "kernelspec": {
   "display_name": "venv_new",
   "language": "python",
   "name": "python3"
  },
  "language_info": {
   "codemirror_mode": {
    "name": "ipython",
    "version": 3
   },
   "file_extension": ".py",
   "mimetype": "text/x-python",
   "name": "python",
   "nbconvert_exporter": "python",
   "pygments_lexer": "ipython3",
   "version": "3.10.12"
  }
 },
 "nbformat": 4,
 "nbformat_minor": 2
}
